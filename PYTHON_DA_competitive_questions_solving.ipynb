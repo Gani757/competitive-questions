{
 "cells": [
  {
   "cell_type": "markdown",
   "id": "6cbe4503-3a18-434b-8a8a-bffb404269ee",
   "metadata": {},
   "source": [
    "***Q1) Retail Company Scenario***\n",
    "Company: Walmart\n",
    "Topic: Sales Data Analysis\n",
    "\n",
    "Calculate the total and average monthly sales.\n",
    "\n",
    "Identify which department had the highest average sales during holidays.\n",
    "\n",
    "Find the store with the most consistent sales (least variance).\n",
    "\n",
    "***Q2)🔹 E-Commerce Scenario***\n",
    "Company: Amazon\n",
    "Topic: Product Reviews Analysis\n",
    "Question:\n",
    "\n",
    "Amazon wants to analyze customer feedback for its electronics products. Given a dataset with Product_ID, Rating, Review_Text, Review_Date, use Pandas and basic Python to:\n",
    "\n",
    "Calculate average rating per product.\n",
    "\n",
    "Identify the top 5 products with the most reviews.\n",
    "\n",
    "Use NumPy to calculate the standard deviation of ratings.\n",
    "\n",
    "What statistical measure would help detect whether most ratings are skewed (positively or negatively)?\n",
    "\n",
    "***Q3)🔹 Finance Company Scenario***\n",
    "Company: JPMorgan Chase\n",
    "Topic: Customer Transactions\n",
    "Question:\n",
    "\n",
    "Analyze customer transactions. Given columns Customer_ID, Transaction_Date, Amount, Category, write code to:\n",
    "\n",
    "Compute the total spend per customer using Pandas.\n",
    "\n",
    "Use NumPy to find the percentile (25th, 50th, 75th) of all transaction amounts.\n",
    "\n",
    "Use basic Python to count how many customers have more than 10 transactions.\n",
    "\n",
    "Perform a statistical test to see if the average transaction amount differs between two categories.\n",
    "\n",
    "***Q4)🔹 Healthcare Company Scenario***\n",
    "Company: CVS Health\n",
    "Topic: Patient Visit Logs\n",
    "Question:\n",
    "\n",
    "Analyze patient visit logs from a clinic. Data columns: Patient_ID, Visit_Date, Diagnosis, Cost, Follow_Up.\n",
    "Tasks:\n",
    "\n",
    "Calculate average and median cost per diagnosis.\n",
    "\n",
    "Use NumPy to determine if the distribution of costs is normal.\n",
    "\n",
    "Find the diagnosis with the highest variability in cost.\n",
    "\n",
    "Create a time series of monthly visits.\n",
    "\n",
    "***Q5)🔹 Food Delivery Company Scenario***\n",
    "Company: Zomato\n",
    "Topic: Order and Rating Analysis\n",
    "Question:\n",
    "\n",
    "Zomato wants insights from their order data. Data includes Order_ID, Restaurant_ID, Delivery_Time, Order_Value, Rating.\n",
    "Tasks:\n",
    "\n",
    "Calculate the average delivery time per restaurant.\n",
    "\n",
    "Use Pandas to find the correlation between delivery time and rating.\n",
    "\n",
    "Use NumPy to calculate z-scores for delivery times and identify outliers.\n",
    "\n",
    "What statistical metric would help you judge customer satisfaction best?"
   ]
  },
  {
   "cell_type": "markdown",
   "id": "bf2813c9-9955-4dac-8802-0144579d0751",
   "metadata": {},
   "source": [
    "Q1) Retail Company Scenario\n",
    "Company: Walmart\n",
    "Topic: Sales Data Analysis\n",
    "\n",
    "Calculate the total and average monthly sales.\n",
    "\n",
    "Identify which department had the highest average sales during holidays.\n",
    "\n",
    "Find the store with the most consistent sales (least variance).\n"
   ]
  },
  {
   "cell_type": "code",
   "execution_count": 277,
   "id": "1b58be7d-f66d-4f94-9d16-ac5e5009997d",
   "metadata": {},
   "outputs": [
    {
     "data": {
      "text/html": [
       "<div>\n",
       "<style scoped>\n",
       "    .dataframe tbody tr th:only-of-type {\n",
       "        vertical-align: middle;\n",
       "    }\n",
       "\n",
       "    .dataframe tbody tr th {\n",
       "        vertical-align: top;\n",
       "    }\n",
       "\n",
       "    .dataframe thead th {\n",
       "        text-align: right;\n",
       "    }\n",
       "</style>\n",
       "<table border=\"1\" class=\"dataframe\">\n",
       "  <thead>\n",
       "    <tr style=\"text-align: right;\">\n",
       "      <th></th>\n",
       "      <th>Date</th>\n",
       "      <th>Store_ID</th>\n",
       "      <th>Department</th>\n",
       "      <th>Sales</th>\n",
       "      <th>Holiday_Flag</th>\n",
       "    </tr>\n",
       "  </thead>\n",
       "  <tbody>\n",
       "    <tr>\n",
       "      <th>0</th>\n",
       "      <td>01-01-2024</td>\n",
       "      <td>4</td>\n",
       "      <td>Electronics</td>\n",
       "      <td>26051.99</td>\n",
       "      <td>0</td>\n",
       "    </tr>\n",
       "    <tr>\n",
       "      <th>1</th>\n",
       "      <td>02-01-2024</td>\n",
       "      <td>5</td>\n",
       "      <td>Groceries</td>\n",
       "      <td>19243.82</td>\n",
       "      <td>0</td>\n",
       "    </tr>\n",
       "    <tr>\n",
       "      <th>2</th>\n",
       "      <td>03-01-2024</td>\n",
       "      <td>3</td>\n",
       "      <td>Electronics</td>\n",
       "      <td>18127.39</td>\n",
       "      <td>0</td>\n",
       "    </tr>\n",
       "    <tr>\n",
       "      <th>3</th>\n",
       "      <td>04-01-2024</td>\n",
       "      <td>5</td>\n",
       "      <td>Clothing</td>\n",
       "      <td>13543.92</td>\n",
       "      <td>0</td>\n",
       "    </tr>\n",
       "    <tr>\n",
       "      <th>4</th>\n",
       "      <td>05-01-2024</td>\n",
       "      <td>5</td>\n",
       "      <td>Clothing</td>\n",
       "      <td>16172.45</td>\n",
       "      <td>0</td>\n",
       "    </tr>\n",
       "    <tr>\n",
       "      <th>...</th>\n",
       "      <td>...</td>\n",
       "      <td>...</td>\n",
       "      <td>...</td>\n",
       "      <td>...</td>\n",
       "      <td>...</td>\n",
       "    </tr>\n",
       "    <tr>\n",
       "      <th>175</th>\n",
       "      <td>24-06-2024</td>\n",
       "      <td>2</td>\n",
       "      <td>Groceries</td>\n",
       "      <td>21126.18</td>\n",
       "      <td>0</td>\n",
       "    </tr>\n",
       "    <tr>\n",
       "      <th>176</th>\n",
       "      <td>25-06-2024</td>\n",
       "      <td>3</td>\n",
       "      <td>Toys</td>\n",
       "      <td>20832.15</td>\n",
       "      <td>0</td>\n",
       "    </tr>\n",
       "    <tr>\n",
       "      <th>177</th>\n",
       "      <td>26-06-2024</td>\n",
       "      <td>1</td>\n",
       "      <td>Pharmacy</td>\n",
       "      <td>24037.78</td>\n",
       "      <td>0</td>\n",
       "    </tr>\n",
       "    <tr>\n",
       "      <th>178</th>\n",
       "      <td>27-06-2024</td>\n",
       "      <td>5</td>\n",
       "      <td>Electronics</td>\n",
       "      <td>24620.76</td>\n",
       "      <td>0</td>\n",
       "    </tr>\n",
       "    <tr>\n",
       "      <th>179</th>\n",
       "      <td>28-06-2024</td>\n",
       "      <td>1</td>\n",
       "      <td>Pharmacy</td>\n",
       "      <td>24064.28</td>\n",
       "      <td>0</td>\n",
       "    </tr>\n",
       "  </tbody>\n",
       "</table>\n",
       "<p>180 rows × 5 columns</p>\n",
       "</div>"
      ],
      "text/plain": [
       "           Date  Store_ID   Department     Sales  Holiday_Flag\n",
       "0    01-01-2024         4  Electronics  26051.99             0\n",
       "1    02-01-2024         5    Groceries  19243.82             0\n",
       "2    03-01-2024         3  Electronics  18127.39             0\n",
       "3    04-01-2024         5     Clothing  13543.92             0\n",
       "4    05-01-2024         5     Clothing  16172.45             0\n",
       "..          ...       ...          ...       ...           ...\n",
       "175  24-06-2024         2    Groceries  21126.18             0\n",
       "176  25-06-2024         3         Toys  20832.15             0\n",
       "177  26-06-2024         1     Pharmacy  24037.78             0\n",
       "178  27-06-2024         5  Electronics  24620.76             0\n",
       "179  28-06-2024         1     Pharmacy  24064.28             0\n",
       "\n",
       "[180 rows x 5 columns]"
      ]
     },
     "execution_count": 277,
     "metadata": {},
     "output_type": "execute_result"
    }
   ],
   "source": [
    "import pandas as pd\n",
    "import numpy as np\n",
    "import datetime as datetime\n",
    "import matplotlib.pyplot as plt\n",
    "import seaborn as sns\n",
    "\n",
    "df=pd.read_csv(r\"C:\\Users\\91709\\OneDrive\\Pictures\\Desktop\\retail_sales_data.csv\")\n",
    "df"
   ]
  },
  {
   "cell_type": "markdown",
   "id": "58c0750f-da21-4c0d-b855-c7931c00ece3",
   "metadata": {},
   "source": [
    "****Data received is Already cleaned Data****"
   ]
  },
  {
   "cell_type": "code",
   "execution_count": 280,
   "id": "7f1145f2-42ef-4a2f-a2ce-db15b8b35d28",
   "metadata": {},
   "outputs": [
    {
     "data": {
      "text/plain": [
       "(180, 5)"
      ]
     },
     "execution_count": 280,
     "metadata": {},
     "output_type": "execute_result"
    }
   ],
   "source": [
    "df.shape     "
   ]
  },
  {
   "cell_type": "code",
   "execution_count": 282,
   "id": "7e5df651-da7c-404a-a724-ed97cdf6ac69",
   "metadata": {},
   "outputs": [
    {
     "data": {
      "text/html": [
       "<div>\n",
       "<style scoped>\n",
       "    .dataframe tbody tr th:only-of-type {\n",
       "        vertical-align: middle;\n",
       "    }\n",
       "\n",
       "    .dataframe tbody tr th {\n",
       "        vertical-align: top;\n",
       "    }\n",
       "\n",
       "    .dataframe thead th {\n",
       "        text-align: right;\n",
       "    }\n",
       "</style>\n",
       "<table border=\"1\" class=\"dataframe\">\n",
       "  <thead>\n",
       "    <tr style=\"text-align: right;\">\n",
       "      <th></th>\n",
       "      <th>Store_ID</th>\n",
       "      <th>Sales</th>\n",
       "      <th>Holiday_Flag</th>\n",
       "    </tr>\n",
       "  </thead>\n",
       "  <tbody>\n",
       "    <tr>\n",
       "      <th>count</th>\n",
       "      <td>180.000000</td>\n",
       "      <td>180.000000</td>\n",
       "      <td>180.000000</td>\n",
       "    </tr>\n",
       "    <tr>\n",
       "      <th>mean</th>\n",
       "      <td>3.022222</td>\n",
       "      <td>19928.820667</td>\n",
       "      <td>0.072222</td>\n",
       "    </tr>\n",
       "    <tr>\n",
       "      <th>std</th>\n",
       "      <td>1.417983</td>\n",
       "      <td>5429.020715</td>\n",
       "      <td>0.259578</td>\n",
       "    </tr>\n",
       "    <tr>\n",
       "      <th>min</th>\n",
       "      <td>1.000000</td>\n",
       "      <td>3179.520000</td>\n",
       "      <td>0.000000</td>\n",
       "    </tr>\n",
       "    <tr>\n",
       "      <th>25%</th>\n",
       "      <td>2.000000</td>\n",
       "      <td>16446.410000</td>\n",
       "      <td>0.000000</td>\n",
       "    </tr>\n",
       "    <tr>\n",
       "      <th>50%</th>\n",
       "      <td>3.000000</td>\n",
       "      <td>19737.615000</td>\n",
       "      <td>0.000000</td>\n",
       "    </tr>\n",
       "    <tr>\n",
       "      <th>75%</th>\n",
       "      <td>4.000000</td>\n",
       "      <td>23974.172500</td>\n",
       "      <td>0.000000</td>\n",
       "    </tr>\n",
       "    <tr>\n",
       "      <th>max</th>\n",
       "      <td>5.000000</td>\n",
       "      <td>35935.170000</td>\n",
       "      <td>1.000000</td>\n",
       "    </tr>\n",
       "  </tbody>\n",
       "</table>\n",
       "</div>"
      ],
      "text/plain": [
       "         Store_ID         Sales  Holiday_Flag\n",
       "count  180.000000    180.000000    180.000000\n",
       "mean     3.022222  19928.820667      0.072222\n",
       "std      1.417983   5429.020715      0.259578\n",
       "min      1.000000   3179.520000      0.000000\n",
       "25%      2.000000  16446.410000      0.000000\n",
       "50%      3.000000  19737.615000      0.000000\n",
       "75%      4.000000  23974.172500      0.000000\n",
       "max      5.000000  35935.170000      1.000000"
      ]
     },
     "execution_count": 282,
     "metadata": {},
     "output_type": "execute_result"
    }
   ],
   "source": [
    "df.describe()"
   ]
  },
  {
   "cell_type": "code",
   "execution_count": 284,
   "id": "0a56506e-87ee-44e0-8826-29095ce86ebe",
   "metadata": {},
   "outputs": [
    {
     "data": {
      "text/html": [
       "<div>\n",
       "<style scoped>\n",
       "    .dataframe tbody tr th:only-of-type {\n",
       "        vertical-align: middle;\n",
       "    }\n",
       "\n",
       "    .dataframe tbody tr th {\n",
       "        vertical-align: top;\n",
       "    }\n",
       "\n",
       "    .dataframe thead th {\n",
       "        text-align: right;\n",
       "    }\n",
       "</style>\n",
       "<table border=\"1\" class=\"dataframe\">\n",
       "  <thead>\n",
       "    <tr style=\"text-align: right;\">\n",
       "      <th></th>\n",
       "      <th>Date</th>\n",
       "      <th>Department</th>\n",
       "    </tr>\n",
       "  </thead>\n",
       "  <tbody>\n",
       "    <tr>\n",
       "      <th>count</th>\n",
       "      <td>180</td>\n",
       "      <td>180</td>\n",
       "    </tr>\n",
       "    <tr>\n",
       "      <th>unique</th>\n",
       "      <td>180</td>\n",
       "      <td>5</td>\n",
       "    </tr>\n",
       "    <tr>\n",
       "      <th>top</th>\n",
       "      <td>01-01-2024</td>\n",
       "      <td>Electronics</td>\n",
       "    </tr>\n",
       "    <tr>\n",
       "      <th>freq</th>\n",
       "      <td>1</td>\n",
       "      <td>44</td>\n",
       "    </tr>\n",
       "  </tbody>\n",
       "</table>\n",
       "</div>"
      ],
      "text/plain": [
       "              Date   Department\n",
       "count          180          180\n",
       "unique         180            5\n",
       "top     01-01-2024  Electronics\n",
       "freq             1           44"
      ]
     },
     "execution_count": 284,
     "metadata": {},
     "output_type": "execute_result"
    }
   ],
   "source": [
    "df.describe(include=\"object\")"
   ]
  },
  {
   "cell_type": "code",
   "execution_count": 285,
   "id": "1e055c91-eb4f-4b4c-8f78-1246ed4ff92f",
   "metadata": {},
   "outputs": [
    {
     "data": {
      "text/html": [
       "<div>\n",
       "<style scoped>\n",
       "    .dataframe tbody tr th:only-of-type {\n",
       "        vertical-align: middle;\n",
       "    }\n",
       "\n",
       "    .dataframe tbody tr th {\n",
       "        vertical-align: top;\n",
       "    }\n",
       "\n",
       "    .dataframe thead th {\n",
       "        text-align: right;\n",
       "    }\n",
       "</style>\n",
       "<table border=\"1\" class=\"dataframe\">\n",
       "  <thead>\n",
       "    <tr style=\"text-align: right;\">\n",
       "      <th></th>\n",
       "      <th>Date</th>\n",
       "      <th>Store_ID</th>\n",
       "      <th>Department</th>\n",
       "      <th>Sales</th>\n",
       "      <th>Holiday_Flag</th>\n",
       "    </tr>\n",
       "  </thead>\n",
       "  <tbody>\n",
       "    <tr>\n",
       "      <th>count</th>\n",
       "      <td>180</td>\n",
       "      <td>180.000000</td>\n",
       "      <td>180</td>\n",
       "      <td>180.000000</td>\n",
       "      <td>180.000000</td>\n",
       "    </tr>\n",
       "    <tr>\n",
       "      <th>unique</th>\n",
       "      <td>180</td>\n",
       "      <td>NaN</td>\n",
       "      <td>5</td>\n",
       "      <td>NaN</td>\n",
       "      <td>NaN</td>\n",
       "    </tr>\n",
       "    <tr>\n",
       "      <th>top</th>\n",
       "      <td>01-01-2024</td>\n",
       "      <td>NaN</td>\n",
       "      <td>Electronics</td>\n",
       "      <td>NaN</td>\n",
       "      <td>NaN</td>\n",
       "    </tr>\n",
       "    <tr>\n",
       "      <th>freq</th>\n",
       "      <td>1</td>\n",
       "      <td>NaN</td>\n",
       "      <td>44</td>\n",
       "      <td>NaN</td>\n",
       "      <td>NaN</td>\n",
       "    </tr>\n",
       "    <tr>\n",
       "      <th>mean</th>\n",
       "      <td>NaN</td>\n",
       "      <td>3.022222</td>\n",
       "      <td>NaN</td>\n",
       "      <td>19928.820667</td>\n",
       "      <td>0.072222</td>\n",
       "    </tr>\n",
       "    <tr>\n",
       "      <th>std</th>\n",
       "      <td>NaN</td>\n",
       "      <td>1.417983</td>\n",
       "      <td>NaN</td>\n",
       "      <td>5429.020715</td>\n",
       "      <td>0.259578</td>\n",
       "    </tr>\n",
       "    <tr>\n",
       "      <th>min</th>\n",
       "      <td>NaN</td>\n",
       "      <td>1.000000</td>\n",
       "      <td>NaN</td>\n",
       "      <td>3179.520000</td>\n",
       "      <td>0.000000</td>\n",
       "    </tr>\n",
       "    <tr>\n",
       "      <th>25%</th>\n",
       "      <td>NaN</td>\n",
       "      <td>2.000000</td>\n",
       "      <td>NaN</td>\n",
       "      <td>16446.410000</td>\n",
       "      <td>0.000000</td>\n",
       "    </tr>\n",
       "    <tr>\n",
       "      <th>50%</th>\n",
       "      <td>NaN</td>\n",
       "      <td>3.000000</td>\n",
       "      <td>NaN</td>\n",
       "      <td>19737.615000</td>\n",
       "      <td>0.000000</td>\n",
       "    </tr>\n",
       "    <tr>\n",
       "      <th>75%</th>\n",
       "      <td>NaN</td>\n",
       "      <td>4.000000</td>\n",
       "      <td>NaN</td>\n",
       "      <td>23974.172500</td>\n",
       "      <td>0.000000</td>\n",
       "    </tr>\n",
       "    <tr>\n",
       "      <th>max</th>\n",
       "      <td>NaN</td>\n",
       "      <td>5.000000</td>\n",
       "      <td>NaN</td>\n",
       "      <td>35935.170000</td>\n",
       "      <td>1.000000</td>\n",
       "    </tr>\n",
       "  </tbody>\n",
       "</table>\n",
       "</div>"
      ],
      "text/plain": [
       "              Date    Store_ID   Department         Sales  Holiday_Flag\n",
       "count          180  180.000000          180    180.000000    180.000000\n",
       "unique         180         NaN            5           NaN           NaN\n",
       "top     01-01-2024         NaN  Electronics           NaN           NaN\n",
       "freq             1         NaN           44           NaN           NaN\n",
       "mean           NaN    3.022222          NaN  19928.820667      0.072222\n",
       "std            NaN    1.417983          NaN   5429.020715      0.259578\n",
       "min            NaN    1.000000          NaN   3179.520000      0.000000\n",
       "25%            NaN    2.000000          NaN  16446.410000      0.000000\n",
       "50%            NaN    3.000000          NaN  19737.615000      0.000000\n",
       "75%            NaN    4.000000          NaN  23974.172500      0.000000\n",
       "max            NaN    5.000000          NaN  35935.170000      1.000000"
      ]
     },
     "execution_count": 285,
     "metadata": {},
     "output_type": "execute_result"
    }
   ],
   "source": [
    "df.describe(include=\"all\")"
   ]
  },
  {
   "cell_type": "code",
   "execution_count": 286,
   "id": "404ee20b-641e-4570-9a51-7b1d28c769dc",
   "metadata": {},
   "outputs": [
    {
     "data": {
      "text/plain": [
       "180"
      ]
     },
     "execution_count": 286,
     "metadata": {},
     "output_type": "execute_result"
    }
   ],
   "source": [
    "## s1 data cleaning \n",
    "\n",
    "df[\"Date\"].nunique()"
   ]
  },
  {
   "cell_type": "code",
   "execution_count": 287,
   "id": "a063511c-8c62-4994-876d-b877c042fc1c",
   "metadata": {
    "jp-MarkdownHeadingCollapsed": true
   },
   "outputs": [
    {
     "data": {
      "text/plain": [
       "array([4, 5, 3, 2, 1], dtype=int64)"
      ]
     },
     "execution_count": 287,
     "metadata": {},
     "output_type": "execute_result"
    }
   ],
   "source": [
    " df[\"Store_ID\"].unique()"
   ]
  },
  {
   "cell_type": "code",
   "execution_count": 288,
   "id": "e4025712-2327-4039-b266-bd8cb887cd58",
   "metadata": {
    "scrolled": true
   },
   "outputs": [
    {
     "data": {
      "text/plain": [
       "array(['Electronics', 'Groceries', 'Clothing', 'Toys', 'Pharmacy'],\n",
       "      dtype=object)"
      ]
     },
     "execution_count": 288,
     "metadata": {},
     "output_type": "execute_result"
    }
   ],
   "source": [
    "df[\"Department\"].unique()"
   ]
  },
  {
   "cell_type": "code",
   "execution_count": 289,
   "id": "9ed69379-52e4-448b-80da-68f9d248c04f",
   "metadata": {
    "scrolled": true
   },
   "outputs": [
    {
     "data": {
      "text/plain": [
       "180"
      ]
     },
     "execution_count": 289,
     "metadata": {},
     "output_type": "execute_result"
    }
   ],
   "source": [
    "df[\"Sales\"].nunique()"
   ]
  },
  {
   "cell_type": "code",
   "execution_count": 290,
   "id": "ca8e0cdf-683a-4fa7-bf47-b2ad2f7167fc",
   "metadata": {
    "scrolled": true
   },
   "outputs": [
    {
     "data": {
      "text/plain": [
       "array([0, 1], dtype=int64)"
      ]
     },
     "execution_count": 290,
     "metadata": {},
     "output_type": "execute_result"
    }
   ],
   "source": [
    "df[\"Holiday_Flag\"].unique()"
   ]
  },
  {
   "cell_type": "code",
   "execution_count": 291,
   "id": "597f0d9c-b5eb-46bd-a069-717dcd5cce3e",
   "metadata": {},
   "outputs": [
    {
     "data": {
      "text/plain": [
       "Date            0\n",
       "Store_ID        0\n",
       "Department      0\n",
       "Sales           0\n",
       "Holiday_Flag    0\n",
       "dtype: int64"
      ]
     },
     "execution_count": 291,
     "metadata": {},
     "output_type": "execute_result"
    }
   ],
   "source": [
    "df.isnull().sum()      "
   ]
  },
  {
   "cell_type": "code",
   "execution_count": 292,
   "id": "ca3faee7-3525-43b3-820c-515f1ae11be9",
   "metadata": {},
   "outputs": [
    {
     "data": {
      "text/plain": [
       "0"
      ]
     },
     "execution_count": 292,
     "metadata": {},
     "output_type": "execute_result"
    }
   ],
   "source": [
    "df.duplicated().sum()"
   ]
  },
  {
   "cell_type": "code",
   "execution_count": 293,
   "id": "3f78928a-f7ff-4531-8edb-e0708ec70b6a",
   "metadata": {},
   "outputs": [
    {
     "data": {
      "text/plain": [
       "Department\n",
       "Electronics    44\n",
       "Groceries      39\n",
       "Toys           38\n",
       "Clothing       33\n",
       "Pharmacy       26\n",
       "Name: count, dtype: int64"
      ]
     },
     "execution_count": 293,
     "metadata": {},
     "output_type": "execute_result"
    }
   ],
   "source": [
    "df[\"Department\"].value_counts()"
   ]
  },
  {
   "cell_type": "code",
   "execution_count": 294,
   "id": "71b54657-2030-4225-9436-30fe26d35aae",
   "metadata": {},
   "outputs": [
    {
     "data": {
      "text/plain": [
       "900"
      ]
     },
     "execution_count": 294,
     "metadata": {},
     "output_type": "execute_result"
    }
   ],
   "source": [
    "df.size"
   ]
  },
  {
   "cell_type": "code",
   "execution_count": 295,
   "id": "05b64150-8f9c-477b-8e29-d50a31ce1d4b",
   "metadata": {},
   "outputs": [
    {
     "name": "stderr",
     "output_type": "stream",
     "text": [
      "C:\\Users\\91709\\AppData\\Local\\Temp\\ipykernel_13676\\921899040.py:1: UserWarning: Pandas doesn't allow columns to be created via a new attribute name - see https://pandas.pydata.org/pandas-docs/stable/indexing.html#attribute-access\n",
      "  df.cloumns=df.columns.str.strip().tolist()   #convert col names safely without spaces\n"
     ]
    },
    {
     "data": {
      "text/plain": [
       "['Date', 'Store_ID', 'Department', 'Sales', 'Holiday_Flag']"
      ]
     },
     "execution_count": 295,
     "metadata": {},
     "output_type": "execute_result"
    }
   ],
   "source": [
    "df.cloumns=df.columns.str.strip().tolist()   #convert col names safely without spaces and to list\n",
    "df.cloumns\n"
   ]
  },
  {
   "cell_type": "code",
   "execution_count": 296,
   "id": "4e1e4243-d024-4965-94f1-fd954bc13b5b",
   "metadata": {},
   "outputs": [
    {
     "data": {
      "text/plain": [
       "Date             object\n",
       "Store_ID          int64\n",
       "Department       object\n",
       "Sales           float64\n",
       "Holiday_Flag      int64\n",
       "dtype: object"
      ]
     },
     "execution_count": 296,
     "metadata": {},
     "output_type": "execute_result"
    }
   ],
   "source": [
    "df.dtypes"
   ]
  },
  {
   "cell_type": "code",
   "execution_count": 297,
   "id": "75232d4c-22e1-4cb0-a951-de97014af329",
   "metadata": {},
   "outputs": [
    {
     "data": {
      "text/plain": [
       "array(['01-01-2024', '02-01-2024', '03-01-2024', '04-01-2024',\n",
       "       '05-01-2024', '06-01-2024', '07-01-2024', '08-01-2024',\n",
       "       '09-01-2024', '10-01-2024', '11-01-2024', '12-01-2024',\n",
       "       '13-01-2024', '14-01-2024', '15-01-2024', '16-01-2024',\n",
       "       '17-01-2024', '18-01-2024', '19-01-2024', '20-01-2024',\n",
       "       '21-01-2024', '22-01-2024', '23-01-2024', '24-01-2024',\n",
       "       '25-01-2024', '26-01-2024', '27-01-2024', '28-01-2024',\n",
       "       '29-01-2024', '30-01-2024', '31-01-2024', '01-02-2024',\n",
       "       '02-02-2024', '03-02-2024', '04-02-2024', '05-02-2024',\n",
       "       '06-02-2024', '07-02-2024', '08-02-2024', '09-02-2024',\n",
       "       '10-02-2024', '11-02-2024', '12-02-2024', '13-02-2024',\n",
       "       '14-02-2024', '15-02-2024', '16-02-2024', '17-02-2024',\n",
       "       '18-02-2024', '19-02-2024', '20-02-2024', '21-02-2024',\n",
       "       '22-02-2024', '23-02-2024', '24-02-2024', '25-02-2024',\n",
       "       '26-02-2024', '27-02-2024', '28-02-2024', '29-02-2024',\n",
       "       '01-03-2024', '02-03-2024', '03-03-2024', '04-03-2024',\n",
       "       '05-03-2024', '06-03-2024', '07-03-2024', '08-03-2024',\n",
       "       '09-03-2024', '10-03-2024', '11-03-2024', '12-03-2024',\n",
       "       '13-03-2024', '14-03-2024', '15-03-2024', '16-03-2024',\n",
       "       '17-03-2024', '18-03-2024', '19-03-2024', '20-03-2024',\n",
       "       '21-03-2024', '22-03-2024', '23-03-2024', '24-03-2024',\n",
       "       '25-03-2024', '26-03-2024', '27-03-2024', '28-03-2024',\n",
       "       '29-03-2024', '30-03-2024', '31-03-2024', '01-04-2024',\n",
       "       '02-04-2024', '03-04-2024', '04-04-2024', '05-04-2024',\n",
       "       '06-04-2024', '07-04-2024', '08-04-2024', '09-04-2024',\n",
       "       '10-04-2024', '11-04-2024', '12-04-2024', '13-04-2024',\n",
       "       '14-04-2024', '15-04-2024', '16-04-2024', '17-04-2024',\n",
       "       '18-04-2024', '19-04-2024', '20-04-2024', '21-04-2024',\n",
       "       '22-04-2024', '23-04-2024', '24-04-2024', '25-04-2024',\n",
       "       '26-04-2024', '27-04-2024', '28-04-2024', '29-04-2024',\n",
       "       '30-04-2024', '01-05-2024', '02-05-2024', '03-05-2024',\n",
       "       '04-05-2024', '05-05-2024', '06-05-2024', '07-05-2024',\n",
       "       '08-05-2024', '09-05-2024', '10-05-2024', '11-05-2024',\n",
       "       '12-05-2024', '13-05-2024', '14-05-2024', '15-05-2024',\n",
       "       '16-05-2024', '17-05-2024', '18-05-2024', '19-05-2024',\n",
       "       '20-05-2024', '21-05-2024', '22-05-2024', '23-05-2024',\n",
       "       '24-05-2024', '25-05-2024', '26-05-2024', '27-05-2024',\n",
       "       '28-05-2024', '29-05-2024', '30-05-2024', '31-05-2024',\n",
       "       '01-06-2024', '02-06-2024', '03-06-2024', '04-06-2024',\n",
       "       '05-06-2024', '06-06-2024', '07-06-2024', '08-06-2024',\n",
       "       '09-06-2024', '10-06-2024', '11-06-2024', '12-06-2024',\n",
       "       '13-06-2024', '14-06-2024', '15-06-2024', '16-06-2024',\n",
       "       '17-06-2024', '18-06-2024', '19-06-2024', '20-06-2024',\n",
       "       '21-06-2024', '22-06-2024', '23-06-2024', '24-06-2024',\n",
       "       '25-06-2024', '26-06-2024', '27-06-2024', '28-06-2024'],\n",
       "      dtype=object)"
      ]
     },
     "execution_count": 297,
     "metadata": {},
     "output_type": "execute_result"
    }
   ],
   "source": [
    "df[\"Date\"].unique()"
   ]
  },
  {
   "cell_type": "code",
   "execution_count": 298,
   "id": "1e79a2d6-dc88-4a0c-b0d8-3599862bfa08",
   "metadata": {},
   "outputs": [
    {
     "data": {
      "text/plain": [
       "180"
      ]
     },
     "execution_count": 298,
     "metadata": {},
     "output_type": "execute_result"
    }
   ],
   "source": [
    "df[\"Date\"].nunique()"
   ]
  },
  {
   "cell_type": "code",
   "execution_count": 314,
   "id": "59ac83c5-4e6b-45c2-a80b-a3cb2449dd74",
   "metadata": {},
   "outputs": [
    {
     "data": {
      "text/plain": [
       "array([4, 5, 3, 2, 1], dtype=int64)"
      ]
     },
     "execution_count": 314,
     "metadata": {},
     "output_type": "execute_result"
    }
   ],
   "source": [
    "df[\"Store_ID\"].unique()"
   ]
  },
  {
   "cell_type": "code",
   "execution_count": 315,
   "id": "0ad135c6-026b-4183-86f7-1134b54c659d",
   "metadata": {},
   "outputs": [
    {
     "data": {
      "text/plain": [
       "array(['Electronics', 'Groceries', 'Clothing', 'Toys', 'Pharmacy'],\n",
       "      dtype=object)"
      ]
     },
     "execution_count": 315,
     "metadata": {},
     "output_type": "execute_result"
    }
   ],
   "source": [
    "df[\"Department\"].unique()"
   ]
  },
  {
   "cell_type": "code",
   "execution_count": 316,
   "id": "367f7149-2252-4e8c-8ed1-82b76a18eb7c",
   "metadata": {},
   "outputs": [
    {
     "data": {
      "text/plain": [
       "array([26051.99, 19243.82, 18127.39, 13543.92, 16172.45, 22111.57,\n",
       "       13460.43, 10047.  , 15712.26, 24200.03, 28906.46, 16612.92,\n",
       "       12255.86, 18284.35, 20919.28, 22889.49, 30673.21, 21134.24,\n",
       "       28277.31, 17685.37, 20432.83, 17035.59, 16599.98, 18682.97,\n",
       "       18596.73, 16980.12, 17253.74, 25483.98, 30565.56, 17507.97,\n",
       "       18378.02, 22623.05, 35935.17, 20420.82, 24863.16, 27722.37,\n",
       "       21720.34, 24631.16, 23039.19, 25162.56, 14827.99, 21021.41,\n",
       "       22406.09, 22335.29, 25685.09, 22234.45, 14275.26, 22956.58,\n",
       "       15584.61, 16503.11, 17907.46, 19442.91, 12281.37, 25584.47,\n",
       "       14222.42, 27850.55, 14375.24, 26409.6 , 19857.89, 11417.88,\n",
       "       14785.19, 26632.36, 22243.24, 19606.34,  8916.19, 26947.83,\n",
       "       29352.12, 28440.09, 16923.77, 21914.  , 22460.71, 12362.74,\n",
       "       20902.46, 25355.21, 23822.39, 14444.18, 15686.92, 23952.97,\n",
       "       23164.26,  8729.21,  7717.03, 19617.34, 17051.74, 18508.49,\n",
       "       17943.55, 24920.12, 20517.84, 21338.18, 13288.44,  3179.52,\n",
       "       25617.71, 30716.03, 18287.06, 21246.57, 21622.59, 28376.47,\n",
       "       24444.92, 22480.32, 20277.86, 20301.16, 12802.69, 18082.56,\n",
       "       24431.01, 18831.48, 20221.75, 14119.36, 22227.53, 12691.22,\n",
       "       21449.41, 19063.88, 11283.57, 25347.39, 19180.67, 29303.89,\n",
       "       27391.26, 15602.66, 16041.4 , 14140.12, 12067.68, 17889.11,\n",
       "       27218.74, 10425.46, 24259.72, 23841.7 , 22773.46, 23665.87,\n",
       "       14478.89, 23807.86, 17253.71,  7704.03, 20287.06, 15779.46,\n",
       "       26794.08, 18568.27, 20228.04, 21945.9 , 18663.  , 19480.79,\n",
       "       24217.87, 14668.39, 16490.93, 15164.44, 27183.77, 16491.5 ,\n",
       "       19283.58, 16996.98, 18459.11, 16312.85, 22313.62, 14795.75,\n",
       "       13237.75, 17207.9 , 16008.82, 13310.78, 18383.14, 11699.41,\n",
       "       28638.74, 12536.99, 16768.5 , 17982.23, 28423.42, 11348.42,\n",
       "       20710.25, 25185.79, 18451.28, 14150.91, 19460.08, 27635.51,\n",
       "       16921.07, 27180.92, 21293.33, 26162.57, 21093.42, 17578.12,\n",
       "       28194.3 , 21126.18, 20832.15, 24037.78, 24620.76, 24064.28])"
      ]
     },
     "execution_count": 316,
     "metadata": {},
     "output_type": "execute_result"
    }
   ],
   "source": [
    "df[\"Sales\"].unique()"
   ]
  },
  {
   "cell_type": "code",
   "execution_count": 320,
   "id": "9e1d19ca-f60b-4f9c-a314-bb4be837f1ac",
   "metadata": {},
   "outputs": [
    {
     "data": {
      "text/plain": [
       "180"
      ]
     },
     "execution_count": 320,
     "metadata": {},
     "output_type": "execute_result"
    }
   ],
   "source": [
    "df[\"Sales\"].nunique()"
   ]
  },
  {
   "cell_type": "code",
   "execution_count": 321,
   "id": "9017c705-6c40-4a0f-a95f-81c09adb2b1b",
   "metadata": {
    "scrolled": true
   },
   "outputs": [
    {
     "data": {
      "text/plain": [
       "array([0, 1], dtype=int64)"
      ]
     },
     "execution_count": 321,
     "metadata": {},
     "output_type": "execute_result"
    }
   ],
   "source": [
    "df[\"Holiday_Flag\"].unique()"
   ]
  },
  {
   "cell_type": "code",
   "execution_count": 322,
   "id": "37a6136b-5573-4d74-bb84-d72b20176d30",
   "metadata": {},
   "outputs": [
    {
     "data": {
      "text/plain": [
       "Index(['Date', 'Store_ID', 'Department', 'Sales', 'Holiday_Flag'], dtype='object')"
      ]
     },
     "execution_count": 322,
     "metadata": {},
     "output_type": "execute_result"
    }
   ],
   "source": [
    "df.columns"
   ]
  },
  {
   "cell_type": "code",
   "execution_count": 323,
   "id": "770d701c-e0e2-442b-9952-64f6ea69d1de",
   "metadata": {},
   "outputs": [
    {
     "data": {
      "text/plain": [
       "3587187.7199999997"
      ]
     },
     "execution_count": 323,
     "metadata": {},
     "output_type": "execute_result"
    }
   ],
   "source": [
    "df['Sales'].sum()   #total sales"
   ]
  },
  {
   "cell_type": "code",
   "execution_count": 324,
   "id": "9bee22f1-2e76-4fff-8314-f28764c9fd50",
   "metadata": {},
   "outputs": [
    {
     "data": {
      "text/plain": [
       "19928.820666666667"
      ]
     },
     "execution_count": 324,
     "metadata": {},
     "output_type": "execute_result"
    }
   ],
   "source": [
    "df['Sales'].mean() "
   ]
  },
  {
   "cell_type": "code",
   "execution_count": 325,
   "id": "9db49839-0501-404a-891b-8e9e1d6df388",
   "metadata": {},
   "outputs": [
    {
     "data": {
      "text/plain": [
       "0      False\n",
       "1      False\n",
       "2      False\n",
       "3      False\n",
       "4      False\n",
       "       ...  \n",
       "175    False\n",
       "176    False\n",
       "177    False\n",
       "178    False\n",
       "179    False\n",
       "Name: Date, Length: 180, dtype: bool"
      ]
     },
     "execution_count": 325,
     "metadata": {},
     "output_type": "execute_result"
    }
   ],
   "source": [
    "df['Date'].isnull()   #bool check if null values exist"
   ]
  },
  {
   "cell_type": "markdown",
   "id": "6b10d28c-6076-4456-9700-fadf3c20bb77",
   "metadata": {},
   "source": [
    " # to find average monthly sales.\n",
    " convert the date col to datetime and then "
   ]
  },
  {
   "cell_type": "code",
   "execution_count": 327,
   "id": "e26fd9d4-a495-41de-9dfb-0530cdb4d479",
   "metadata": {},
   "outputs": [
    {
     "data": {
      "text/plain": [
       "0     2024-01-01\n",
       "1     2024-02-01\n",
       "2     2024-03-01\n",
       "3     2024-04-01\n",
       "4     2024-05-01\n",
       "         ...    \n",
       "175          NaT\n",
       "176          NaT\n",
       "177          NaT\n",
       "178          NaT\n",
       "179          NaT\n",
       "Name: Date, Length: 180, dtype: datetime64[ns]"
      ]
     },
     "execution_count": 327,
     "metadata": {},
     "output_type": "execute_result"
    }
   ],
   "source": [
    " \n",
    "df[\"Date\"]=pd.to_datetime(df['Date'],errors=\"coerce\") #convert to date to datetime format\n",
    "df[\"Date\"]"
   ]
  },
  {
   "cell_type": "code",
   "execution_count": 328,
   "id": "d61ce7b8-6fe8-4a0a-b618-b9e48e7b2cf4",
   "metadata": {},
   "outputs": [],
   "source": [
    "df[\"yearmonth\"]=df['Date'].dt.to_period('M')   #convert to month for grouping\n"
   ]
  },
  {
   "cell_type": "markdown",
   "id": "735a91a2-2233-4dbb-bfdd-1dabdfaf7378",
   "metadata": {},
   "source": [
    "# Aggregate function(mean,std,sum,min,max,count)"
   ]
  },
  {
   "cell_type": "code",
   "execution_count": 330,
   "id": "04ca96c0-5c90-4ed9-8a68-5f4b0dcec5af",
   "metadata": {},
   "outputs": [
    {
     "data": {
      "text/html": [
       "<div>\n",
       "<style scoped>\n",
       "    .dataframe tbody tr th:only-of-type {\n",
       "        vertical-align: middle;\n",
       "    }\n",
       "\n",
       "    .dataframe tbody tr th {\n",
       "        vertical-align: top;\n",
       "    }\n",
       "\n",
       "    .dataframe thead th {\n",
       "        text-align: right;\n",
       "    }\n",
       "</style>\n",
       "<table border=\"1\" class=\"dataframe\">\n",
       "  <thead>\n",
       "    <tr style=\"text-align: right;\">\n",
       "      <th></th>\n",
       "      <th>yearmonth</th>\n",
       "      <th>total_sales</th>\n",
       "      <th>avg_sales</th>\n",
       "    </tr>\n",
       "  </thead>\n",
       "  <tbody>\n",
       "    <tr>\n",
       "      <th>0</th>\n",
       "      <td>2024-01-01</td>\n",
       "      <td>120610.54</td>\n",
       "      <td>20101.756667</td>\n",
       "    </tr>\n",
       "    <tr>\n",
       "      <th>1</th>\n",
       "      <td>2024-02-01</td>\n",
       "      <td>137668.91</td>\n",
       "      <td>22944.818333</td>\n",
       "    </tr>\n",
       "    <tr>\n",
       "      <th>2</th>\n",
       "      <td>2024-03-01</td>\n",
       "      <td>124262.86</td>\n",
       "      <td>20710.476667</td>\n",
       "    </tr>\n",
       "    <tr>\n",
       "      <th>3</th>\n",
       "      <td>2024-04-01</td>\n",
       "      <td>114108.88</td>\n",
       "      <td>19018.146667</td>\n",
       "    </tr>\n",
       "    <tr>\n",
       "      <th>4</th>\n",
       "      <td>2024-05-01</td>\n",
       "      <td>133492.09</td>\n",
       "      <td>22248.681667</td>\n",
       "    </tr>\n",
       "    <tr>\n",
       "      <th>5</th>\n",
       "      <td>2024-06-01</td>\n",
       "      <td>122240.54</td>\n",
       "      <td>20373.423333</td>\n",
       "    </tr>\n",
       "    <tr>\n",
       "      <th>6</th>\n",
       "      <td>2024-07-01</td>\n",
       "      <td>130500.39</td>\n",
       "      <td>21750.065000</td>\n",
       "    </tr>\n",
       "    <tr>\n",
       "      <th>7</th>\n",
       "      <td>2024-08-01</td>\n",
       "      <td>117040.08</td>\n",
       "      <td>19506.680000</td>\n",
       "    </tr>\n",
       "    <tr>\n",
       "      <th>8</th>\n",
       "      <td>2024-09-01</td>\n",
       "      <td>114227.20</td>\n",
       "      <td>19037.866667</td>\n",
       "    </tr>\n",
       "    <tr>\n",
       "      <th>9</th>\n",
       "      <td>2024-10-01</td>\n",
       "      <td>105380.19</td>\n",
       "      <td>17563.365000</td>\n",
       "    </tr>\n",
       "    <tr>\n",
       "      <th>10</th>\n",
       "      <td>2024-11-01</td>\n",
       "      <td>126960.85</td>\n",
       "      <td>21160.141667</td>\n",
       "    </tr>\n",
       "    <tr>\n",
       "      <th>11</th>\n",
       "      <td>2024-12-01</td>\n",
       "      <td>127792.63</td>\n",
       "      <td>21298.771667</td>\n",
       "    </tr>\n",
       "  </tbody>\n",
       "</table>\n",
       "</div>"
      ],
      "text/plain": [
       "    yearmonth  total_sales     avg_sales\n",
       "0  2024-01-01    120610.54  20101.756667\n",
       "1  2024-02-01    137668.91  22944.818333\n",
       "2  2024-03-01    124262.86  20710.476667\n",
       "3  2024-04-01    114108.88  19018.146667\n",
       "4  2024-05-01    133492.09  22248.681667\n",
       "5  2024-06-01    122240.54  20373.423333\n",
       "6  2024-07-01    130500.39  21750.065000\n",
       "7  2024-08-01    117040.08  19506.680000\n",
       "8  2024-09-01    114227.20  19037.866667\n",
       "9  2024-10-01    105380.19  17563.365000\n",
       "10 2024-11-01    126960.85  21160.141667\n",
       "11 2024-12-01    127792.63  21298.771667"
      ]
     },
     "execution_count": 330,
     "metadata": {},
     "output_type": "execute_result"
    }
   ],
   "source": [
    "monthly_data=df.groupby('yearmonth')['Sales'].agg(total_sales='sum',avg_sales='mean').reset_index()\n",
    "monthly_data[\"yearmonth\"]=monthly_data[\"yearmonth\"].dt.to_timestamp()\n",
    "monthly_data\n"
   ]
  },
  {
   "cell_type": "code",
   "execution_count": 331,
   "id": "9f997e1d-6d24-417a-a5b5-4a065f9fded3",
   "metadata": {},
   "outputs": [
    {
     "data": {
      "text/html": [
       "<div>\n",
       "<style scoped>\n",
       "    .dataframe tbody tr th:only-of-type {\n",
       "        vertical-align: middle;\n",
       "    }\n",
       "\n",
       "    .dataframe tbody tr th {\n",
       "        vertical-align: top;\n",
       "    }\n",
       "\n",
       "    .dataframe thead th {\n",
       "        text-align: right;\n",
       "    }\n",
       "</style>\n",
       "<table border=\"1\" class=\"dataframe\">\n",
       "  <thead>\n",
       "    <tr style=\"text-align: right;\">\n",
       "      <th></th>\n",
       "      <th>yearmonth</th>\n",
       "      <th>total_sales</th>\n",
       "      <th>avg_sales</th>\n",
       "    </tr>\n",
       "  </thead>\n",
       "  <tbody>\n",
       "    <tr>\n",
       "      <th>count</th>\n",
       "      <td>12</td>\n",
       "      <td>12.000000</td>\n",
       "      <td>12.000000</td>\n",
       "    </tr>\n",
       "    <tr>\n",
       "      <th>mean</th>\n",
       "      <td>2024-06-16 08:00:00</td>\n",
       "      <td>122857.096667</td>\n",
       "      <td>20476.182778</td>\n",
       "    </tr>\n",
       "    <tr>\n",
       "      <th>min</th>\n",
       "      <td>2024-01-01 00:00:00</td>\n",
       "      <td>105380.190000</td>\n",
       "      <td>17563.365000</td>\n",
       "    </tr>\n",
       "    <tr>\n",
       "      <th>25%</th>\n",
       "      <td>2024-03-24 06:00:00</td>\n",
       "      <td>116336.860000</td>\n",
       "      <td>19389.476667</td>\n",
       "    </tr>\n",
       "    <tr>\n",
       "      <th>50%</th>\n",
       "      <td>2024-06-16 00:00:00</td>\n",
       "      <td>123251.700000</td>\n",
       "      <td>20541.950000</td>\n",
       "    </tr>\n",
       "    <tr>\n",
       "      <th>75%</th>\n",
       "      <td>2024-09-08 12:00:00</td>\n",
       "      <td>128469.570000</td>\n",
       "      <td>21411.595000</td>\n",
       "    </tr>\n",
       "    <tr>\n",
       "      <th>max</th>\n",
       "      <td>2024-12-01 00:00:00</td>\n",
       "      <td>137668.910000</td>\n",
       "      <td>22944.818333</td>\n",
       "    </tr>\n",
       "    <tr>\n",
       "      <th>std</th>\n",
       "      <td>NaN</td>\n",
       "      <td>9193.885327</td>\n",
       "      <td>1532.314221</td>\n",
       "    </tr>\n",
       "  </tbody>\n",
       "</table>\n",
       "</div>"
      ],
      "text/plain": [
       "                 yearmonth    total_sales     avg_sales\n",
       "count                   12      12.000000     12.000000\n",
       "mean   2024-06-16 08:00:00  122857.096667  20476.182778\n",
       "min    2024-01-01 00:00:00  105380.190000  17563.365000\n",
       "25%    2024-03-24 06:00:00  116336.860000  19389.476667\n",
       "50%    2024-06-16 00:00:00  123251.700000  20541.950000\n",
       "75%    2024-09-08 12:00:00  128469.570000  21411.595000\n",
       "max    2024-12-01 00:00:00  137668.910000  22944.818333\n",
       "std                    NaN    9193.885327   1532.314221"
      ]
     },
     "execution_count": 331,
     "metadata": {},
     "output_type": "execute_result"
    }
   ],
   "source": [
    "monthly_data.describe()"
   ]
  },
  {
   "cell_type": "code",
   "execution_count": 332,
   "id": "2210d08a-9e7e-42bf-99f5-23a4a394f792",
   "metadata": {},
   "outputs": [
    {
     "data": {
      "image/png": "[encoded data removed]",
      "text/plain": [
       "<Figure size 640x480 with 1 Axes>"
      ]
     },
     "metadata": {},
     "output_type": "display_data"
    }
   ],
   "source": [
    "#seaborn box-whisker plot to ***check outliers***\n",
    "\n",
    "\n",
    "sns.boxplot(monthly_data['total_sales'])\n",
    "plt.show()"
   ]
  },
  {
   "cell_type": "code",
   "execution_count": 333,
   "id": "6daca3ff-c83d-446d-b6ed-c947b51b77ce",
   "metadata": {
    "scrolled": true
   },
   "outputs": [
    {
     "data": {
      "text/html": [
       "<div>\n",
       "<style scoped>\n",
       "    .dataframe tbody tr th:only-of-type {\n",
       "        vertical-align: middle;\n",
       "    }\n",
       "\n",
       "    .dataframe tbody tr th {\n",
       "        vertical-align: top;\n",
       "    }\n",
       "\n",
       "    .dataframe thead th {\n",
       "        text-align: right;\n",
       "    }\n",
       "</style>\n",
       "<table border=\"1\" class=\"dataframe\">\n",
       "  <thead>\n",
       "    <tr style=\"text-align: right;\">\n",
       "      <th></th>\n",
       "      <th>yearmonth</th>\n",
       "      <th>total_sales</th>\n",
       "      <th>avg_sales</th>\n",
       "    </tr>\n",
       "  </thead>\n",
       "  <tbody>\n",
       "    <tr>\n",
       "      <th>0</th>\n",
       "      <td>2024-01-01</td>\n",
       "      <td>120610.54</td>\n",
       "      <td>20101.756667</td>\n",
       "    </tr>\n",
       "    <tr>\n",
       "      <th>1</th>\n",
       "      <td>2024-02-01</td>\n",
       "      <td>137668.91</td>\n",
       "      <td>22944.818333</td>\n",
       "    </tr>\n",
       "    <tr>\n",
       "      <th>2</th>\n",
       "      <td>2024-03-01</td>\n",
       "      <td>124262.86</td>\n",
       "      <td>20710.476667</td>\n",
       "    </tr>\n",
       "    <tr>\n",
       "      <th>3</th>\n",
       "      <td>2024-04-01</td>\n",
       "      <td>114108.88</td>\n",
       "      <td>19018.146667</td>\n",
       "    </tr>\n",
       "    <tr>\n",
       "      <th>4</th>\n",
       "      <td>2024-05-01</td>\n",
       "      <td>133492.09</td>\n",
       "      <td>22248.681667</td>\n",
       "    </tr>\n",
       "    <tr>\n",
       "      <th>5</th>\n",
       "      <td>2024-06-01</td>\n",
       "      <td>122240.54</td>\n",
       "      <td>20373.423333</td>\n",
       "    </tr>\n",
       "    <tr>\n",
       "      <th>6</th>\n",
       "      <td>2024-07-01</td>\n",
       "      <td>130500.39</td>\n",
       "      <td>21750.065000</td>\n",
       "    </tr>\n",
       "    <tr>\n",
       "      <th>7</th>\n",
       "      <td>2024-08-01</td>\n",
       "      <td>117040.08</td>\n",
       "      <td>19506.680000</td>\n",
       "    </tr>\n",
       "    <tr>\n",
       "      <th>8</th>\n",
       "      <td>2024-09-01</td>\n",
       "      <td>114227.20</td>\n",
       "      <td>19037.866667</td>\n",
       "    </tr>\n",
       "    <tr>\n",
       "      <th>9</th>\n",
       "      <td>2024-10-01</td>\n",
       "      <td>105380.19</td>\n",
       "      <td>17563.365000</td>\n",
       "    </tr>\n",
       "    <tr>\n",
       "      <th>10</th>\n",
       "      <td>2024-11-01</td>\n",
       "      <td>126960.85</td>\n",
       "      <td>21160.141667</td>\n",
       "    </tr>\n",
       "    <tr>\n",
       "      <th>11</th>\n",
       "      <td>2024-12-01</td>\n",
       "      <td>127792.63</td>\n",
       "      <td>21298.771667</td>\n",
       "    </tr>\n",
       "  </tbody>\n",
       "</table>\n",
       "</div>"
      ],
      "text/plain": [
       "    yearmonth  total_sales     avg_sales\n",
       "0  2024-01-01    120610.54  20101.756667\n",
       "1  2024-02-01    137668.91  22944.818333\n",
       "2  2024-03-01    124262.86  20710.476667\n",
       "3  2024-04-01    114108.88  19018.146667\n",
       "4  2024-05-01    133492.09  22248.681667\n",
       "5  2024-06-01    122240.54  20373.423333\n",
       "6  2024-07-01    130500.39  21750.065000\n",
       "7  2024-08-01    117040.08  19506.680000\n",
       "8  2024-09-01    114227.20  19037.866667\n",
       "9  2024-10-01    105380.19  17563.365000\n",
       "10 2024-11-01    126960.85  21160.141667\n",
       "11 2024-12-01    127792.63  21298.771667"
      ]
     },
     "execution_count": 333,
     "metadata": {},
     "output_type": "execute_result"
    }
   ],
   "source": [
    "monthly_data"
   ]
  },
  {
   "cell_type": "code",
   "execution_count": 346,
   "id": "79353aaa-85cb-4a82-996a-11c2e9f585da",
   "metadata": {},
   "outputs": [
    {
     "data": {
      "image/png": "[encoded data removed]",
      "text/plain": [
       "<Figure size 1000x500 with 1 Axes>"
      ]
     },
     "metadata": {},
     "output_type": "display_data"
    }
   ],
   "source": [
    "plt.figure(figsize=(10, 5))\n",
    "plt.plot(monthly_data[\"yearmonth\"],monthly_data[\"total_sales\"],marker=\"*\")\n",
    "plt.title(\"average monthly sales\")\n",
    "plt.xlabel(\"yearmonth\")\n",
    "plt.ylabel(\"total sales\")\n",
    "plt.xticks(rotation=45)\n",
    "plt.show()"
   ]
  },
  {
   "cell_type": "code",
   "execution_count": 347,
   "id": "a5e7abab-b11e-438d-80d7-996b492526cd",
   "metadata": {},
   "outputs": [
    {
     "data": {
      "image/png": "[encoded data removed]",
      "text/plain": [
       "<Figure size 500x500 with 1 Axes>"
      ]
     },
     "metadata": {},
     "output_type": "display_data"
    }
   ],
   "source": [
    "sns.relplot(data=monthly_data,x=\"yearmonth\",y=\"total_sales\",kind=\"line\",marker=\"o\")\n",
    "plt.show()"
   ]
  },
  {
   "cell_type": "code",
   "execution_count": 348,
   "id": "5f99b12f-aa78-4874-a970-820a605271e9",
   "metadata": {},
   "outputs": [
    {
     "data": {
      "text/plain": [
       "Index(['Date', 'Store_ID', 'Department', 'Sales', 'Holiday_Flag', 'yearmonth'], dtype='object')"
      ]
     },
     "execution_count": 348,
     "metadata": {},
     "output_type": "execute_result"
    }
   ],
   "source": [
    "df.columns"
   ]
  },
  {
   "cell_type": "code",
   "execution_count": 349,
   "id": "35aacf79-8a00-4857-a771-a07420ae4a86",
   "metadata": {},
   "outputs": [
    {
     "data": {
      "text/html": [
       "<div>\n",
       "<style scoped>\n",
       "    .dataframe tbody tr th:only-of-type {\n",
       "        vertical-align: middle;\n",
       "    }\n",
       "\n",
       "    .dataframe tbody tr th {\n",
       "        vertical-align: top;\n",
       "    }\n",
       "\n",
       "    .dataframe thead th {\n",
       "        text-align: right;\n",
       "    }\n",
       "</style>\n",
       "<table border=\"1\" class=\"dataframe\">\n",
       "  <thead>\n",
       "    <tr style=\"text-align: right;\">\n",
       "      <th></th>\n",
       "      <th>Department</th>\n",
       "      <th>total_sales</th>\n",
       "    </tr>\n",
       "  </thead>\n",
       "  <tbody>\n",
       "    <tr>\n",
       "      <th>0</th>\n",
       "      <td>Electronics</td>\n",
       "      <td>928451.29</td>\n",
       "    </tr>\n",
       "    <tr>\n",
       "      <th>1</th>\n",
       "      <td>Groceries</td>\n",
       "      <td>803408.83</td>\n",
       "    </tr>\n",
       "    <tr>\n",
       "      <th>2</th>\n",
       "      <td>Toys</td>\n",
       "      <td>754365.59</td>\n",
       "    </tr>\n",
       "    <tr>\n",
       "      <th>3</th>\n",
       "      <td>Clothing</td>\n",
       "      <td>630687.82</td>\n",
       "    </tr>\n",
       "    <tr>\n",
       "      <th>4</th>\n",
       "      <td>Pharmacy</td>\n",
       "      <td>470274.19</td>\n",
       "    </tr>\n",
       "  </tbody>\n",
       "</table>\n",
       "</div>"
      ],
      "text/plain": [
       "    Department  total_sales\n",
       "0  Electronics    928451.29\n",
       "1    Groceries    803408.83\n",
       "2         Toys    754365.59\n",
       "3     Clothing    630687.82\n",
       "4     Pharmacy    470274.19"
      ]
     },
     "execution_count": 349,
     "metadata": {},
     "output_type": "execute_result"
    }
   ],
   "source": [
    "sales_dep=df.groupby('Department')['Sales'].agg(total_sales='sum').reset_index()\n",
    "sales_dep.sort_values(by=\"total_sales\",ascending=False).reset_index(drop=True)"
   ]
  },
  {
   "cell_type": "code",
   "execution_count": 351,
   "id": "d70b657b-56ff-48ef-96fd-c6655eb60de3",
   "metadata": {},
   "outputs": [
    {
     "data": {
      "text/html": [
       "<div>\n",
       "<style scoped>\n",
       "    .dataframe tbody tr th:only-of-type {\n",
       "        vertical-align: middle;\n",
       "    }\n",
       "\n",
       "    .dataframe tbody tr th {\n",
       "        vertical-align: top;\n",
       "    }\n",
       "\n",
       "    .dataframe thead th {\n",
       "        text-align: right;\n",
       "    }\n",
       "</style>\n",
       "<table border=\"1\" class=\"dataframe\">\n",
       "  <thead>\n",
       "    <tr style=\"text-align: right;\">\n",
       "      <th></th>\n",
       "      <th>Department</th>\n",
       "      <th>total_sales</th>\n",
       "    </tr>\n",
       "  </thead>\n",
       "  <tbody>\n",
       "    <tr>\n",
       "      <th>0</th>\n",
       "      <td>Clothing</td>\n",
       "      <td>630687.82</td>\n",
       "    </tr>\n",
       "    <tr>\n",
       "      <th>1</th>\n",
       "      <td>Electronics</td>\n",
       "      <td>928451.29</td>\n",
       "    </tr>\n",
       "    <tr>\n",
       "      <th>2</th>\n",
       "      <td>Groceries</td>\n",
       "      <td>803408.83</td>\n",
       "    </tr>\n",
       "    <tr>\n",
       "      <th>3</th>\n",
       "      <td>Pharmacy</td>\n",
       "      <td>470274.19</td>\n",
       "    </tr>\n",
       "    <tr>\n",
       "      <th>4</th>\n",
       "      <td>Toys</td>\n",
       "      <td>754365.59</td>\n",
       "    </tr>\n",
       "  </tbody>\n",
       "</table>\n",
       "</div>"
      ],
      "text/plain": [
       "    Department  total_sales\n",
       "0     Clothing    630687.82\n",
       "1  Electronics    928451.29\n",
       "2    Groceries    803408.83\n",
       "3     Pharmacy    470274.19\n",
       "4         Toys    754365.59"
      ]
     },
     "execution_count": 351,
     "metadata": {},
     "output_type": "execute_result"
    }
   ],
   "source": [
    "sales_dep"
   ]
  },
  {
   "cell_type": "code",
   "execution_count": 352,
   "id": "94b4af1c-e85d-4c67-aff5-93012846b5f2",
   "metadata": {},
   "outputs": [
    {
     "data": {
      "image/png": "[encoded data removed]",
      "text/plain": [
       "<Figure size 640x480 with 1 Axes>"
      ]
     },
     "metadata": {},
     "output_type": "display_data"
    }
   ],
   "source": [
    "import matplotlib.pyplot as plt\n",
    "import seaborn as sns\n",
    "\n",
    "plt.figure(figure=(4,6))\n",
    "sns.barplot(data=sales_dep,x='Department',y='total_sales',hue=\"Department\")\n",
    "plt.tight_layout()\n",
    "plt.show()"
   ]
  },
  {
   "cell_type": "code",
   "execution_count": 357,
   "id": "f94c1c33-72d3-47c6-88b1-932e4a7fa817",
   "metadata": {},
   "outputs": [
    {
     "data": {
      "image/png": "[encoded data removed]",
      "text/plain": [
       "<Figure size 640x480 with 1 Axes>"
      ]
     },
     "metadata": {},
     "output_type": "display_data"
    }
   ],
   "source": [
    "plt.pie(sales_dep[\"total_sales\"],labels=sales_dep[\"Department\"],autopct=\"%0.1f%%\",explode=[0.1,0,0,0,0])\n",
    "plt.show()"
   ]
  },
  {
   "cell_type": "code",
   "execution_count": 358,
   "id": "e0b1999f-719e-4bdc-995a-6f8947edd0c5",
   "metadata": {},
   "outputs": [
    {
     "data": {
      "text/html": [
       "<div>\n",
       "<style scoped>\n",
       "    .dataframe tbody tr th:only-of-type {\n",
       "        vertical-align: middle;\n",
       "    }\n",
       "\n",
       "    .dataframe tbody tr th {\n",
       "        vertical-align: top;\n",
       "    }\n",
       "\n",
       "    .dataframe thead th {\n",
       "        text-align: right;\n",
       "    }\n",
       "</style>\n",
       "<table border=\"1\" class=\"dataframe\">\n",
       "  <thead>\n",
       "    <tr style=\"text-align: right;\">\n",
       "      <th></th>\n",
       "      <th>Store_ID</th>\n",
       "      <th>variance</th>\n",
       "      <th>total_sales</th>\n",
       "    </tr>\n",
       "  </thead>\n",
       "  <tbody>\n",
       "    <tr>\n",
       "      <th>0</th>\n",
       "      <td>1</td>\n",
       "      <td>2.477387e+07</td>\n",
       "      <td>760805.48</td>\n",
       "    </tr>\n",
       "    <tr>\n",
       "      <th>1</th>\n",
       "      <td>2</td>\n",
       "      <td>2.591501e+07</td>\n",
       "      <td>636093.53</td>\n",
       "    </tr>\n",
       "    <tr>\n",
       "      <th>2</th>\n",
       "      <td>3</td>\n",
       "      <td>3.029029e+07</td>\n",
       "      <td>649940.63</td>\n",
       "    </tr>\n",
       "    <tr>\n",
       "      <th>3</th>\n",
       "      <td>4</td>\n",
       "      <td>3.724882e+07</td>\n",
       "      <td>934166.98</td>\n",
       "    </tr>\n",
       "    <tr>\n",
       "      <th>4</th>\n",
       "      <td>5</td>\n",
       "      <td>2.654164e+07</td>\n",
       "      <td>606181.10</td>\n",
       "    </tr>\n",
       "  </tbody>\n",
       "</table>\n",
       "</div>"
      ],
      "text/plain": [
       "   Store_ID      variance  total_sales\n",
       "0         1  2.477387e+07    760805.48\n",
       "1         2  2.591501e+07    636093.53\n",
       "2         3  3.029029e+07    649940.63\n",
       "3         4  3.724882e+07    934166.98\n",
       "4         5  2.654164e+07    606181.10"
      ]
     },
     "execution_count": 358,
     "metadata": {},
     "output_type": "execute_result"
    }
   ],
   "source": [
    "# grouped by store id and applied aggregate function std.dev \n",
    "\n",
    "sales_stores=df.groupby('Store_ID')['Sales'].agg(variance=\"var\",total_sales=\"sum\").reset_index()\n",
    "sales_stores"
   ]
  },
  {
   "cell_type": "code",
   "execution_count": 360,
   "id": "2a46d425-5449-4c55-829c-fba7f0cb0707",
   "metadata": {
    "scrolled": true
   },
   "outputs": [
    {
     "data": {
      "text/plain": [
       "24773874.73404381"
      ]
     },
     "execution_count": 360,
     "metadata": {},
     "output_type": "execute_result"
    }
   ],
   "source": [
    "#min deviation/ min dispersion\n",
    "\n",
    "sales_stores[\"variance\"].min()"
   ]
  },
  {
   "cell_type": "code",
   "execution_count": 363,
   "id": "62d8e840-15fc-4bf9-8520-173830307f28",
   "metadata": {},
   "outputs": [
    {
     "data": {
      "text/html": [
       "<div>\n",
       "<style scoped>\n",
       "    .dataframe tbody tr th:only-of-type {\n",
       "        vertical-align: middle;\n",
       "    }\n",
       "\n",
       "    .dataframe tbody tr th {\n",
       "        vertical-align: top;\n",
       "    }\n",
       "\n",
       "    .dataframe thead th {\n",
       "        text-align: right;\n",
       "    }\n",
       "</style>\n",
       "<table border=\"1\" class=\"dataframe\">\n",
       "  <thead>\n",
       "    <tr style=\"text-align: right;\">\n",
       "      <th></th>\n",
       "      <th>Store_ID</th>\n",
       "      <th>variance</th>\n",
       "      <th>total_sales</th>\n",
       "    </tr>\n",
       "  </thead>\n",
       "  <tbody>\n",
       "    <tr>\n",
       "      <th>count</th>\n",
       "      <td>5.000000</td>\n",
       "      <td>5.000000e+00</td>\n",
       "      <td>5.000000</td>\n",
       "    </tr>\n",
       "    <tr>\n",
       "      <th>mean</th>\n",
       "      <td>3.000000</td>\n",
       "      <td>2.895393e+07</td>\n",
       "      <td>717437.544000</td>\n",
       "    </tr>\n",
       "    <tr>\n",
       "      <th>std</th>\n",
       "      <td>1.581139</td>\n",
       "      <td>5.077354e+06</td>\n",
       "      <td>134539.125022</td>\n",
       "    </tr>\n",
       "    <tr>\n",
       "      <th>min</th>\n",
       "      <td>1.000000</td>\n",
       "      <td>2.477387e+07</td>\n",
       "      <td>606181.100000</td>\n",
       "    </tr>\n",
       "    <tr>\n",
       "      <th>25%</th>\n",
       "      <td>2.000000</td>\n",
       "      <td>2.591501e+07</td>\n",
       "      <td>636093.530000</td>\n",
       "    </tr>\n",
       "    <tr>\n",
       "      <th>50%</th>\n",
       "      <td>3.000000</td>\n",
       "      <td>2.654164e+07</td>\n",
       "      <td>649940.630000</td>\n",
       "    </tr>\n",
       "    <tr>\n",
       "      <th>75%</th>\n",
       "      <td>4.000000</td>\n",
       "      <td>3.029029e+07</td>\n",
       "      <td>760805.480000</td>\n",
       "    </tr>\n",
       "    <tr>\n",
       "      <th>max</th>\n",
       "      <td>5.000000</td>\n",
       "      <td>3.724882e+07</td>\n",
       "      <td>934166.980000</td>\n",
       "    </tr>\n",
       "  </tbody>\n",
       "</table>\n",
       "</div>"
      ],
      "text/plain": [
       "       Store_ID      variance    total_sales\n",
       "count  5.000000  5.000000e+00       5.000000\n",
       "mean   3.000000  2.895393e+07  717437.544000\n",
       "std    1.581139  5.077354e+06  134539.125022\n",
       "min    1.000000  2.477387e+07  606181.100000\n",
       "25%    2.000000  2.591501e+07  636093.530000\n",
       "50%    3.000000  2.654164e+07  649940.630000\n",
       "75%    4.000000  3.029029e+07  760805.480000\n",
       "max    5.000000  3.724882e+07  934166.980000"
      ]
     },
     "execution_count": 363,
     "metadata": {},
     "output_type": "execute_result"
    }
   ],
   "source": [
    "sales_stores.describe()"
   ]
  },
  {
   "cell_type": "code",
   "execution_count": 366,
   "id": "a8844140-1645-4089-b6d1-059568510d3e",
   "metadata": {},
   "outputs": [
    {
     "data": {
      "image/png": "[encoded data removed]",
      "text/plain": [
       "<Figure size 640x480 with 1 Axes>"
      ]
     },
     "metadata": {},
     "output_type": "display_data"
    }
   ],
   "source": [
    "sns.violinplot(data=df,x=\"Sales\",y=\"Department\",hue=\"Department\")\t    #opposite to bar plot\n",
    "plt.show()"
   ]
  },
  {
   "cell_type": "code",
   "execution_count": 367,
   "id": "7d6bfa1f-4007-439b-9cd8-6edd1c77b47f",
   "metadata": {},
   "outputs": [
    {
     "data": {
      "text/html": [
       "<div>\n",
       "<style scoped>\n",
       "    .dataframe tbody tr th:only-of-type {\n",
       "        vertical-align: middle;\n",
       "    }\n",
       "\n",
       "    .dataframe tbody tr th {\n",
       "        vertical-align: top;\n",
       "    }\n",
       "\n",
       "    .dataframe thead th {\n",
       "        text-align: right;\n",
       "    }\n",
       "</style>\n",
       "<table border=\"1\" class=\"dataframe\">\n",
       "  <thead>\n",
       "    <tr style=\"text-align: right;\">\n",
       "      <th></th>\n",
       "      <th>Store_ID</th>\n",
       "      <th>Sales</th>\n",
       "    </tr>\n",
       "  </thead>\n",
       "  <tbody>\n",
       "    <tr>\n",
       "      <th>Store_ID</th>\n",
       "      <td>1.000000</td>\n",
       "      <td>-0.065959</td>\n",
       "    </tr>\n",
       "    <tr>\n",
       "      <th>Sales</th>\n",
       "      <td>-0.065959</td>\n",
       "      <td>1.000000</td>\n",
       "    </tr>\n",
       "  </tbody>\n",
       "</table>\n",
       "</div>"
      ],
      "text/plain": [
       "          Store_ID     Sales\n",
       "Store_ID  1.000000 -0.065959\n",
       "Sales    -0.065959  1.000000"
      ]
     },
     "execution_count": 367,
     "metadata": {},
     "output_type": "execute_result"
    }
   ],
   "source": [
    "c_m=df[[\"Store_ID\",\"Sales\"]].corr()   # c_m--correlation matrix\n",
    "c_m"
   ]
  },
  {
   "cell_type": "code",
   "execution_count": 370,
   "id": "6f62c526-5075-44eb-afb0-f8188f95f132",
   "metadata": {},
   "outputs": [
    {
     "data": {
      "text/plain": [
       "Index(['Date', 'Store_ID', 'Department', 'Sales', 'Holiday_Flag', 'yearmonth'], dtype='object')"
      ]
     },
     "execution_count": 370,
     "metadata": {},
     "output_type": "execute_result"
    }
   ],
   "source": [
    "df.columns"
   ]
  },
  {
   "cell_type": "code",
   "execution_count": 372,
   "id": "70441435-9965-4447-b291-e16c56c62394",
   "metadata": {},
   "outputs": [],
   "source": [
    "cm=pd.crosstab(df[\"Department\"],df[\"Store_ID\"])"
   ]
  },
  {
   "cell_type": "markdown",
   "id": "03c0b6bb-17a6-46be-a305-4f5227b7a0b7",
   "metadata": {},
   "source": [
    " heatmap: 2d correlation b/w 2 continuous(numeric variables)\n",
    " -"
   ]
  },
  {
   "cell_type": "code",
   "execution_count": 375,
   "id": "23a0af48-e2a7-4dcf-aa75-19112ce0ad15",
   "metadata": {},
   "outputs": [
    {
     "data": {
      "image/png": "[encoded data removed]",
      "text/plain": [
       "<Figure size 640x480 with 2 Axes>"
      ]
     },
     "metadata": {},
     "output_type": "display_data"
    }
   ],
   "source": [
    "sns.heatmap(cm,annot=True)    # cm--correlation matrix,  annot=True -- shows values in the colours  \n",
    "plt.show()   "
   ]
  },
  {
   "cell_type": "code",
   "execution_count": 54,
   "id": "aae52b94-cc61-451b-8d73-e77821a5dfa6",
   "metadata": {},
   "outputs": [
    {
     "data": {
      "image/png": "[encoded data removed]",
      "text/plain": [
       "<Figure size 640x480 with 2 Axes>"
      ]
     },
     "metadata": {},
     "output_type": "display_data"
    }
   ],
   "source": [
    "sns.heatmap(c_m,annot=True)    # annot shows values in the colours\n",
    "plt.show()"
   ]
  },
  {
   "cell_type": "markdown",
   "id": "0dbf40cb-28d3-4244-bdf3-17ba2005c807",
   "metadata": {},
   "source": [
    "# Q2) E-Commerce Scenario\n",
    "Company: Amazon\n",
    "\n",
    "Topic: Product Reviews Analysis\n",
    "Question:\n",
    "\n",
    "Amazon wants to analyze customer feedback for its electronics products. Given a dataset with Product_ID, Rating, Review_Text, Review_Date, use Pandas and basic Python to:\n",
    "\n",
    "Calculate average rating per product.\n",
    "\n",
    "Identify the top 5 products with the most reviews.\n",
    "\n",
    "Use NumPy to calculate the standard deviation of ratings.\n",
    "\n",
    "What statistical measure would help detect whether most ratings are skewed (positively or negatively)?"
   ]
  },
  {
   "cell_type": "code",
   "execution_count": 56,
   "id": "047291f8-a7cb-4411-8e59-b1bdca37c9f5",
   "metadata": {},
   "outputs": [
    {
     "data": {
      "text/html": [
       "<div>\n",
       "<style scoped>\n",
       "    .dataframe tbody tr th:only-of-type {\n",
       "        vertical-align: middle;\n",
       "    }\n",
       "\n",
       "    .dataframe tbody tr th {\n",
       "        vertical-align: top;\n",
       "    }\n",
       "\n",
       "    .dataframe thead th {\n",
       "        text-align: right;\n",
       "    }\n",
       "</style>\n",
       "<table border=\"1\" class=\"dataframe\">\n",
       "  <thead>\n",
       "    <tr style=\"text-align: right;\">\n",
       "      <th></th>\n",
       "      <th>Product_ID</th>\n",
       "      <th>Rating</th>\n",
       "      <th>Review_Text</th>\n",
       "      <th>Review_Date</th>\n",
       "    </tr>\n",
       "  </thead>\n",
       "  <tbody>\n",
       "    <tr>\n",
       "      <th>0</th>\n",
       "      <td>P0016</td>\n",
       "      <td>4</td>\n",
       "      <td>Very bad quality</td>\n",
       "      <td>19-05-2024</td>\n",
       "    </tr>\n",
       "    <tr>\n",
       "      <th>1</th>\n",
       "      <td>P0008</td>\n",
       "      <td>5</td>\n",
       "      <td>Good value for money</td>\n",
       "      <td>03-02-2024</td>\n",
       "    </tr>\n",
       "    <tr>\n",
       "      <th>2</th>\n",
       "      <td>P0013</td>\n",
       "      <td>3</td>\n",
       "      <td>Good value for money</td>\n",
       "      <td>28-03-2024</td>\n",
       "    </tr>\n",
       "    <tr>\n",
       "      <th>3</th>\n",
       "      <td>P0001</td>\n",
       "      <td>5</td>\n",
       "      <td>Excellent product</td>\n",
       "      <td>26-02-2024</td>\n",
       "    </tr>\n",
       "    <tr>\n",
       "      <th>4</th>\n",
       "      <td>P0016</td>\n",
       "      <td>5</td>\n",
       "      <td>Poor packaging</td>\n",
       "      <td>19-02-2024</td>\n",
       "    </tr>\n",
       "    <tr>\n",
       "      <th>...</th>\n",
       "      <td>...</td>\n",
       "      <td>...</td>\n",
       "      <td>...</td>\n",
       "      <td>...</td>\n",
       "    </tr>\n",
       "    <tr>\n",
       "      <th>195</th>\n",
       "      <td>P0017</td>\n",
       "      <td>3</td>\n",
       "      <td>Highly satisfied</td>\n",
       "      <td>24-04-2024</td>\n",
       "    </tr>\n",
       "    <tr>\n",
       "      <th>196</th>\n",
       "      <td>P0014</td>\n",
       "      <td>3</td>\n",
       "      <td>Highly satisfied</td>\n",
       "      <td>28-04-2024</td>\n",
       "    </tr>\n",
       "    <tr>\n",
       "      <th>197</th>\n",
       "      <td>P0015</td>\n",
       "      <td>1</td>\n",
       "      <td>Excellent product</td>\n",
       "      <td>11-02-2024</td>\n",
       "    </tr>\n",
       "    <tr>\n",
       "      <th>198</th>\n",
       "      <td>P0001</td>\n",
       "      <td>5</td>\n",
       "      <td>Very bad quality</td>\n",
       "      <td>02-02-2024</td>\n",
       "    </tr>\n",
       "    <tr>\n",
       "      <th>199</th>\n",
       "      <td>P0003</td>\n",
       "      <td>4</td>\n",
       "      <td>Good value for money</td>\n",
       "      <td>25-01-2024</td>\n",
       "    </tr>\n",
       "  </tbody>\n",
       "</table>\n",
       "<p>200 rows × 4 columns</p>\n",
       "</div>"
      ],
      "text/plain": [
       "    Product_ID  Rating           Review_Text Review_Date\n",
       "0        P0016       4      Very bad quality  19-05-2024\n",
       "1        P0008       5  Good value for money  03-02-2024\n",
       "2        P0013       3  Good value for money  28-03-2024\n",
       "3        P0001       5     Excellent product  26-02-2024\n",
       "4        P0016       5        Poor packaging  19-02-2024\n",
       "..         ...     ...                   ...         ...\n",
       "195      P0017       3      Highly satisfied  24-04-2024\n",
       "196      P0014       3      Highly satisfied  28-04-2024\n",
       "197      P0015       1     Excellent product  11-02-2024\n",
       "198      P0001       5      Very bad quality  02-02-2024\n",
       "199      P0003       4  Good value for money  25-01-2024\n",
       "\n",
       "[200 rows x 4 columns]"
      ]
     },
     "execution_count": 56,
     "metadata": {},
     "output_type": "execute_result"
    }
   ],
   "source": [
    "df=pd.read_csv(r\"C:\\Users\\91709\\OneDrive\\Pictures\\Desktop\\ecommerce_reviews_data.csv\")\n",
    "df"
   ]
  },
  {
   "cell_type": "markdown",
   "id": "8070d845-b33d-4ccd-970b-ea173f1e0015",
   "metadata": {},
   "source": [
    "### Calculate average rating per product."
   ]
  },
  {
   "cell_type": "code",
   "execution_count": 58,
   "id": "93be2485-6397-40bd-b42d-cda9410acf1f",
   "metadata": {
    "scrolled": true
   },
   "outputs": [
    {
     "data": {
      "text/plain": [
       "Index(['Product_ID', 'Rating', 'Review_Text', 'Review_Date'], dtype='object')"
      ]
     },
     "execution_count": 58,
     "metadata": {},
     "output_type": "execute_result"
    }
   ],
   "source": [
    "df.columns=df.columns.str.strip().tolist()  # safely convert column name to str and remove leading and trailing\n",
    "df.columns"
   ]
  },
  {
   "cell_type": "code",
   "execution_count": 59,
   "id": "944a6231-9f56-4b76-a019-fc5b8a0c61f8",
   "metadata": {},
   "outputs": [
    {
     "data": {
      "text/html": [
       "<div>\n",
       "<style scoped>\n",
       "    .dataframe tbody tr th:only-of-type {\n",
       "        vertical-align: middle;\n",
       "    }\n",
       "\n",
       "    .dataframe tbody tr th {\n",
       "        vertical-align: top;\n",
       "    }\n",
       "\n",
       "    .dataframe thead th {\n",
       "        text-align: right;\n",
       "    }\n",
       "</style>\n",
       "<table border=\"1\" class=\"dataframe\">\n",
       "  <thead>\n",
       "    <tr style=\"text-align: right;\">\n",
       "      <th></th>\n",
       "      <th>Product_ID</th>\n",
       "      <th>avg_product_rating</th>\n",
       "    </tr>\n",
       "  </thead>\n",
       "  <tbody>\n",
       "    <tr>\n",
       "      <th>0</th>\n",
       "      <td>P0001</td>\n",
       "      <td>3.090909</td>\n",
       "    </tr>\n",
       "    <tr>\n",
       "      <th>1</th>\n",
       "      <td>P0002</td>\n",
       "      <td>3.600000</td>\n",
       "    </tr>\n",
       "    <tr>\n",
       "      <th>2</th>\n",
       "      <td>P0003</td>\n",
       "      <td>3.307692</td>\n",
       "    </tr>\n",
       "    <tr>\n",
       "      <th>3</th>\n",
       "      <td>P0004</td>\n",
       "      <td>2.583333</td>\n",
       "    </tr>\n",
       "    <tr>\n",
       "      <th>4</th>\n",
       "      <td>P0005</td>\n",
       "      <td>2.800000</td>\n",
       "    </tr>\n",
       "    <tr>\n",
       "      <th>5</th>\n",
       "      <td>P0006</td>\n",
       "      <td>2.400000</td>\n",
       "    </tr>\n",
       "    <tr>\n",
       "      <th>6</th>\n",
       "      <td>P0007</td>\n",
       "      <td>3.083333</td>\n",
       "    </tr>\n",
       "    <tr>\n",
       "      <th>7</th>\n",
       "      <td>P0008</td>\n",
       "      <td>2.666667</td>\n",
       "    </tr>\n",
       "    <tr>\n",
       "      <th>8</th>\n",
       "      <td>P0009</td>\n",
       "      <td>2.888889</td>\n",
       "    </tr>\n",
       "    <tr>\n",
       "      <th>9</th>\n",
       "      <td>P0010</td>\n",
       "      <td>3.333333</td>\n",
       "    </tr>\n",
       "    <tr>\n",
       "      <th>10</th>\n",
       "      <td>P0011</td>\n",
       "      <td>3.666667</td>\n",
       "    </tr>\n",
       "    <tr>\n",
       "      <th>11</th>\n",
       "      <td>P0012</td>\n",
       "      <td>2.928571</td>\n",
       "    </tr>\n",
       "    <tr>\n",
       "      <th>12</th>\n",
       "      <td>P0013</td>\n",
       "      <td>3.000000</td>\n",
       "    </tr>\n",
       "    <tr>\n",
       "      <th>13</th>\n",
       "      <td>P0014</td>\n",
       "      <td>2.857143</td>\n",
       "    </tr>\n",
       "    <tr>\n",
       "      <th>14</th>\n",
       "      <td>P0015</td>\n",
       "      <td>2.833333</td>\n",
       "    </tr>\n",
       "    <tr>\n",
       "      <th>15</th>\n",
       "      <td>P0016</td>\n",
       "      <td>3.076923</td>\n",
       "    </tr>\n",
       "    <tr>\n",
       "      <th>16</th>\n",
       "      <td>P0017</td>\n",
       "      <td>2.769231</td>\n",
       "    </tr>\n",
       "    <tr>\n",
       "      <th>17</th>\n",
       "      <td>P0018</td>\n",
       "      <td>3.000000</td>\n",
       "    </tr>\n",
       "    <tr>\n",
       "      <th>18</th>\n",
       "      <td>P0019</td>\n",
       "      <td>3.666667</td>\n",
       "    </tr>\n",
       "    <tr>\n",
       "      <th>19</th>\n",
       "      <td>P0020</td>\n",
       "      <td>2.444444</td>\n",
       "    </tr>\n",
       "  </tbody>\n",
       "</table>\n",
       "</div>"
      ],
      "text/plain": [
       "   Product_ID  avg_product_rating\n",
       "0       P0001            3.090909\n",
       "1       P0002            3.600000\n",
       "2       P0003            3.307692\n",
       "3       P0004            2.583333\n",
       "4       P0005            2.800000\n",
       "5       P0006            2.400000\n",
       "6       P0007            3.083333\n",
       "7       P0008            2.666667\n",
       "8       P0009            2.888889\n",
       "9       P0010            3.333333\n",
       "10      P0011            3.666667\n",
       "11      P0012            2.928571\n",
       "12      P0013            3.000000\n",
       "13      P0014            2.857143\n",
       "14      P0015            2.833333\n",
       "15      P0016            3.076923\n",
       "16      P0017            2.769231\n",
       "17      P0018            3.000000\n",
       "18      P0019            3.666667\n",
       "19      P0020            2.444444"
      ]
     },
     "execution_count": 59,
     "metadata": {},
     "output_type": "execute_result"
    }
   ],
   "source": [
    "product_rating=df.groupby('Product_ID')['Rating'].agg(avg_product_rating='mean').reset_index()\n",
    "product_rating"
   ]
  },
  {
   "cell_type": "markdown",
   "id": "14882fb7-0fe8-4e97-a415-6cd284144b9d",
   "metadata": {},
   "source": [
    "### Identify the top 5 products with the most reviews."
   ]
  },
  {
   "cell_type": "code",
   "execution_count": 61,
   "id": "cb0e11ef-72c8-4ec1-a04d-53b13a930cbc",
   "metadata": {
    "scrolled": true
   },
   "outputs": [
    {
     "data": {
      "text/html": [
       "<div>\n",
       "<style scoped>\n",
       "    .dataframe tbody tr th:only-of-type {\n",
       "        vertical-align: middle;\n",
       "    }\n",
       "\n",
       "    .dataframe tbody tr th {\n",
       "        vertical-align: top;\n",
       "    }\n",
       "\n",
       "    .dataframe thead th {\n",
       "        text-align: right;\n",
       "    }\n",
       "</style>\n",
       "<table border=\"1\" class=\"dataframe\">\n",
       "  <thead>\n",
       "    <tr style=\"text-align: right;\">\n",
       "      <th></th>\n",
       "      <th>Product_ID</th>\n",
       "      <th>product_rating</th>\n",
       "    </tr>\n",
       "  </thead>\n",
       "  <tbody>\n",
       "    <tr>\n",
       "      <th>0</th>\n",
       "      <td>P0005</td>\n",
       "      <td>15</td>\n",
       "    </tr>\n",
       "    <tr>\n",
       "      <th>1</th>\n",
       "      <td>P0013</td>\n",
       "      <td>15</td>\n",
       "    </tr>\n",
       "    <tr>\n",
       "      <th>2</th>\n",
       "      <td>P0012</td>\n",
       "      <td>14</td>\n",
       "    </tr>\n",
       "    <tr>\n",
       "      <th>3</th>\n",
       "      <td>P0003</td>\n",
       "      <td>13</td>\n",
       "    </tr>\n",
       "    <tr>\n",
       "      <th>4</th>\n",
       "      <td>P0017</td>\n",
       "      <td>13</td>\n",
       "    </tr>\n",
       "  </tbody>\n",
       "</table>\n",
       "</div>"
      ],
      "text/plain": [
       "  Product_ID  product_rating\n",
       "0      P0005              15\n",
       "1      P0013              15\n",
       "2      P0012              14\n",
       "3      P0003              13\n",
       "4      P0017              13"
      ]
     },
     "execution_count": 61,
     "metadata": {},
     "output_type": "execute_result"
    }
   ],
   "source": [
    "\n",
    "top5_rating=df.groupby('Product_ID')['Rating'].agg(product_rating='count').reset_index()\n",
    "top5_rating.sort_values(by='product_rating',ascending=False).head().reset_index(drop=True)"
   ]
  },
  {
   "cell_type": "markdown",
   "id": "bc462792-e0eb-4599-9f76-d5a260ecabcf",
   "metadata": {},
   "source": [
    "### Use NumPy to calculate the standard deviation of ratings."
   ]
  },
  {
   "cell_type": "code",
   "execution_count": 63,
   "id": "0b382cc6-f679-47d6-af7a-0efca8cd381f",
   "metadata": {},
   "outputs": [
    {
     "data": {
      "text/plain": [
       "1.4142135623730951"
      ]
     },
     "execution_count": 63,
     "metadata": {},
     "output_type": "execute_result"
    }
   ],
   "source": [
    "#using NumPy\n",
    "arr=np.array(df[\"Rating\"])            \n",
    "np.std(arr)                      # arr=np.std(df[\"Rating\"])\n"
   ]
  },
  {
   "cell_type": "markdown",
   "id": "043ae1e2-cc4b-4371-a680-932e685df269",
   "metadata": {},
   "source": [
    "***Why x = df5[\"Delivery_Time\"] doesn't need to be converted to an array?***\n",
    "\n",
    "Because:\n",
    "\n",
    "df5[\"Delivery_Time\"] is a Pandas Series.\n",
    "\n",
    "***And Pandas Series supports NumPy operations directly — like np.mean(), subtraction, division, np.abs(), etc.***\n",
    "\n",
    "\n",
    "Under the hood, it behaves like a NumPy array because it's built on top of it."
   ]
  },
  {
   "cell_type": "code",
   "execution_count": 65,
   "id": "e6602da8-5c14-4bd9-94e5-768a116ce1d3",
   "metadata": {
    "scrolled": true
   },
   "outputs": [
    {
     "data": {
      "text/html": [
       "<div>\n",
       "<style scoped>\n",
       "    .dataframe tbody tr th:only-of-type {\n",
       "        vertical-align: middle;\n",
       "    }\n",
       "\n",
       "    .dataframe tbody tr th {\n",
       "        vertical-align: top;\n",
       "    }\n",
       "\n",
       "    .dataframe thead th {\n",
       "        text-align: right;\n",
       "    }\n",
       "</style>\n",
       "<table border=\"1\" class=\"dataframe\">\n",
       "  <thead>\n",
       "    <tr style=\"text-align: right;\">\n",
       "      <th></th>\n",
       "      <th>Product_ID</th>\n",
       "      <th>standard_dev__rating</th>\n",
       "    </tr>\n",
       "  </thead>\n",
       "  <tbody>\n",
       "    <tr>\n",
       "      <th>0</th>\n",
       "      <td>P0001</td>\n",
       "      <td>1.868397</td>\n",
       "    </tr>\n",
       "    <tr>\n",
       "      <th>1</th>\n",
       "      <td>P0002</td>\n",
       "      <td>0.894427</td>\n",
       "    </tr>\n",
       "    <tr>\n",
       "      <th>2</th>\n",
       "      <td>P0003</td>\n",
       "      <td>1.315587</td>\n",
       "    </tr>\n",
       "    <tr>\n",
       "      <th>3</th>\n",
       "      <td>P0004</td>\n",
       "      <td>1.729862</td>\n",
       "    </tr>\n",
       "    <tr>\n",
       "      <th>4</th>\n",
       "      <td>P0005</td>\n",
       "      <td>1.146423</td>\n",
       "    </tr>\n",
       "    <tr>\n",
       "      <th>5</th>\n",
       "      <td>P0006</td>\n",
       "      <td>1.341641</td>\n",
       "    </tr>\n",
       "    <tr>\n",
       "      <th>6</th>\n",
       "      <td>P0007</td>\n",
       "      <td>1.311372</td>\n",
       "    </tr>\n",
       "    <tr>\n",
       "      <th>7</th>\n",
       "      <td>P0008</td>\n",
       "      <td>1.632993</td>\n",
       "    </tr>\n",
       "    <tr>\n",
       "      <th>8</th>\n",
       "      <td>P0009</td>\n",
       "      <td>1.615893</td>\n",
       "    </tr>\n",
       "    <tr>\n",
       "      <th>9</th>\n",
       "      <td>P0010</td>\n",
       "      <td>1.658312</td>\n",
       "    </tr>\n",
       "    <tr>\n",
       "      <th>10</th>\n",
       "      <td>P0011</td>\n",
       "      <td>1.366260</td>\n",
       "    </tr>\n",
       "    <tr>\n",
       "      <th>11</th>\n",
       "      <td>P0012</td>\n",
       "      <td>1.071612</td>\n",
       "    </tr>\n",
       "    <tr>\n",
       "      <th>12</th>\n",
       "      <td>P0013</td>\n",
       "      <td>1.511858</td>\n",
       "    </tr>\n",
       "    <tr>\n",
       "      <th>13</th>\n",
       "      <td>P0014</td>\n",
       "      <td>1.345185</td>\n",
       "    </tr>\n",
       "    <tr>\n",
       "      <th>14</th>\n",
       "      <td>P0015</td>\n",
       "      <td>1.471960</td>\n",
       "    </tr>\n",
       "    <tr>\n",
       "      <th>15</th>\n",
       "      <td>P0016</td>\n",
       "      <td>1.656379</td>\n",
       "    </tr>\n",
       "    <tr>\n",
       "      <th>16</th>\n",
       "      <td>P0017</td>\n",
       "      <td>1.480644</td>\n",
       "    </tr>\n",
       "    <tr>\n",
       "      <th>17</th>\n",
       "      <td>P0018</td>\n",
       "      <td>1.414214</td>\n",
       "    </tr>\n",
       "    <tr>\n",
       "      <th>18</th>\n",
       "      <td>P0019</td>\n",
       "      <td>1.073087</td>\n",
       "    </tr>\n",
       "    <tr>\n",
       "      <th>19</th>\n",
       "      <td>P0020</td>\n",
       "      <td>1.666667</td>\n",
       "    </tr>\n",
       "  </tbody>\n",
       "</table>\n",
       "</div>"
      ],
      "text/plain": [
       "   Product_ID  standard_dev__rating\n",
       "0       P0001              1.868397\n",
       "1       P0002              0.894427\n",
       "2       P0003              1.315587\n",
       "3       P0004              1.729862\n",
       "4       P0005              1.146423\n",
       "5       P0006              1.341641\n",
       "6       P0007              1.311372\n",
       "7       P0008              1.632993\n",
       "8       P0009              1.615893\n",
       "9       P0010              1.658312\n",
       "10      P0011              1.366260\n",
       "11      P0012              1.071612\n",
       "12      P0013              1.511858\n",
       "13      P0014              1.345185\n",
       "14      P0015              1.471960\n",
       "15      P0016              1.656379\n",
       "16      P0017              1.480644\n",
       "17      P0018              1.414214\n",
       "18      P0019              1.073087\n",
       "19      P0020              1.666667"
      ]
     },
     "execution_count": 65,
     "metadata": {},
     "output_type": "execute_result"
    }
   ],
   "source": [
    "#using pandas \n",
    "top5_rating=df.groupby('Product_ID')['Rating'].agg(standard_dev__rating='std').reset_index()  \n",
    "top5_rating"
   ]
  },
  {
   "cell_type": "code",
   "execution_count": 66,
   "id": "9a6ba7b5-c82a-4d20-b346-4d931a90c161",
   "metadata": {},
   "outputs": [
    {
     "data": {
      "text/plain": [
       "1.4177624100166717"
      ]
     },
     "execution_count": 66,
     "metadata": {},
     "output_type": "execute_result"
    }
   ],
   "source": [
    "df['Rating'].std()\n"
   ]
  },
  {
   "cell_type": "code",
   "execution_count": 67,
   "id": "d913ae24-7d32-490e-b3ef-86ea353970fc",
   "metadata": {},
   "outputs": [
    {
     "data": {
      "text/plain": [
       "-0.07480844837701606"
      ]
     },
     "execution_count": 67,
     "metadata": {},
     "output_type": "execute_result"
    }
   ],
   "source": [
    "df['Rating'].skew()   # value< 0 (negative)\tLeft-skewed (tail on left side)"
   ]
  },
  {
   "cell_type": "markdown",
   "id": "05b988db-dda6-4173-bcce-91e6c70253e1",
   "metadata": {},
   "source": [
    "Analyzing customer ratings (e.g., on a 1–5 scale), skewness will tell us whether:\n",
    "\n",
    "Most people gave low ratings (→ positive skew),  ---   tail on right>>high outliers\n",
    "\n",
    "Most gave high ratings (→ negative skew),       ----    tail on left >>low outliers\n",
    "\n",
    "Or ratings are evenly spread (→ symmetric).      ----    no outliers"
   ]
  },
  {
   "cell_type": "markdown",
   "id": "f0835afb-6430-4440-9d15-143beaf1aa81",
   "metadata": {},
   "source": [
    "***Q3)🔹 Finance Company Scenario***\n",
    "Company: JPMorgan Chase\n",
    "Topic: Customer Transactions\n",
    "Question:\n",
    "\n",
    "Analyze customer transactions. Given columns Customer_ID, Transaction_Date, Amount, Category, write code to:\n",
    "\n",
    "Compute the total spend per customer using Pandas.\n",
    "\n",
    "Use NumPy to find the percentile (25th, 50th, 75th) of all transaction amounts.\n",
    "\n",
    "Use basic Python to count how many customers have more than 10 transactions.\n",
    "\n",
    "Perform a statistical test to see if the average transaction amount differs between two categories."
   ]
  },
  {
   "cell_type": "code",
   "execution_count": 70,
   "id": "6e46d1bc-6521-45e3-9999-cae087356317",
   "metadata": {},
   "outputs": [
    {
     "data": {
      "text/html": [
       "<div>\n",
       "<style scoped>\n",
       "    .dataframe tbody tr th:only-of-type {\n",
       "        vertical-align: middle;\n",
       "    }\n",
       "\n",
       "    .dataframe tbody tr th {\n",
       "        vertical-align: top;\n",
       "    }\n",
       "\n",
       "    .dataframe thead th {\n",
       "        text-align: right;\n",
       "    }\n",
       "</style>\n",
       "<table border=\"1\" class=\"dataframe\">\n",
       "  <thead>\n",
       "    <tr style=\"text-align: right;\">\n",
       "      <th></th>\n",
       "      <th>Customer_ID</th>\n",
       "      <th>Transaction_Date</th>\n",
       "      <th>Amount</th>\n",
       "      <th>Category</th>\n",
       "    </tr>\n",
       "  </thead>\n",
       "  <tbody>\n",
       "    <tr>\n",
       "      <th>0</th>\n",
       "      <td>CUST021</td>\n",
       "      <td>20-01-2024</td>\n",
       "      <td>56.93</td>\n",
       "      <td>Dining</td>\n",
       "    </tr>\n",
       "    <tr>\n",
       "      <th>1</th>\n",
       "      <td>CUST032</td>\n",
       "      <td>31-03-2024</td>\n",
       "      <td>311.01</td>\n",
       "      <td>Groceries</td>\n",
       "    </tr>\n",
       "    <tr>\n",
       "      <th>2</th>\n",
       "      <td>CUST023</td>\n",
       "      <td>20-05-2024</td>\n",
       "      <td>141.67</td>\n",
       "      <td>Dining</td>\n",
       "    </tr>\n",
       "    <tr>\n",
       "      <th>3</th>\n",
       "      <td>CUST033</td>\n",
       "      <td>07-01-2024</td>\n",
       "      <td>101.29</td>\n",
       "      <td>Entertainment</td>\n",
       "    </tr>\n",
       "    <tr>\n",
       "      <th>4</th>\n",
       "      <td>CUST003</td>\n",
       "      <td>06-03-2024</td>\n",
       "      <td>26.96</td>\n",
       "      <td>Travel</td>\n",
       "    </tr>\n",
       "    <tr>\n",
       "      <th>...</th>\n",
       "      <td>...</td>\n",
       "      <td>...</td>\n",
       "      <td>...</td>\n",
       "      <td>...</td>\n",
       "    </tr>\n",
       "    <tr>\n",
       "      <th>245</th>\n",
       "      <td>CUST019</td>\n",
       "      <td>06-05-2024</td>\n",
       "      <td>273.55</td>\n",
       "      <td>Dining</td>\n",
       "    </tr>\n",
       "    <tr>\n",
       "      <th>246</th>\n",
       "      <td>CUST047</td>\n",
       "      <td>24-05-2024</td>\n",
       "      <td>65.89</td>\n",
       "      <td>Utilities</td>\n",
       "    </tr>\n",
       "    <tr>\n",
       "      <th>247</th>\n",
       "      <td>CUST016</td>\n",
       "      <td>22-05-2024</td>\n",
       "      <td>350.08</td>\n",
       "      <td>Travel</td>\n",
       "    </tr>\n",
       "    <tr>\n",
       "      <th>248</th>\n",
       "      <td>CUST005</td>\n",
       "      <td>12-06-2024</td>\n",
       "      <td>341.37</td>\n",
       "      <td>Travel</td>\n",
       "    </tr>\n",
       "    <tr>\n",
       "      <th>249</th>\n",
       "      <td>CUST035</td>\n",
       "      <td>31-03-2024</td>\n",
       "      <td>201.74</td>\n",
       "      <td>Groceries</td>\n",
       "    </tr>\n",
       "  </tbody>\n",
       "</table>\n",
       "<p>250 rows × 4 columns</p>\n",
       "</div>"
      ],
      "text/plain": [
       "    Customer_ID Transaction_Date  Amount       Category\n",
       "0       CUST021       20-01-2024   56.93         Dining\n",
       "1       CUST032       31-03-2024  311.01      Groceries\n",
       "2       CUST023       20-05-2024  141.67         Dining\n",
       "3       CUST033       07-01-2024  101.29  Entertainment\n",
       "4       CUST003       06-03-2024   26.96         Travel\n",
       "..          ...              ...     ...            ...\n",
       "245     CUST019       06-05-2024  273.55         Dining\n",
       "246     CUST047       24-05-2024   65.89      Utilities\n",
       "247     CUST016       22-05-2024  350.08         Travel\n",
       "248     CUST005       12-06-2024  341.37         Travel\n",
       "249     CUST035       31-03-2024  201.74      Groceries\n",
       "\n",
       "[250 rows x 4 columns]"
      ]
     },
     "execution_count": 70,
     "metadata": {},
     "output_type": "execute_result"
    }
   ],
   "source": [
    "import pandas as pd\n",
    "import numpy as np\n",
    "import matplotlib.pyplot as plt\n",
    "import seaborn as sns\n",
    "\n",
    "\n",
    "df=pd.read_csv(r\"C:\\Users\\91709\\OneDrive\\Pictures\\Desktop\\finance_transactions_data.csv\")\n",
    "df"
   ]
  },
  {
   "cell_type": "code",
   "execution_count": 71,
   "id": "694b0948-ff66-46bf-b551-acadeab81e9f",
   "metadata": {},
   "outputs": [
    {
     "data": {
      "text/plain": [
       "(250, 4)"
      ]
     },
     "execution_count": 71,
     "metadata": {},
     "output_type": "execute_result"
    }
   ],
   "source": [
    "df.shape"
   ]
  },
  {
   "cell_type": "code",
   "execution_count": 72,
   "id": "5424fde9-d2e2-4481-9c19-eef5bb49feea",
   "metadata": {},
   "outputs": [
    {
     "data": {
      "text/plain": [
       "Index(['Customer_ID', 'Transaction_Date', 'Amount', 'Category'], dtype='object')"
      ]
     },
     "execution_count": 72,
     "metadata": {},
     "output_type": "execute_result"
    }
   ],
   "source": [
    "df.columns=df.columns.str.strip()\n",
    "df.columns"
   ]
  },
  {
   "cell_type": "code",
   "execution_count": 73,
   "id": "b851ef2f-1bf5-4342-9ba9-d15e1f1e46a8",
   "metadata": {},
   "outputs": [
    {
     "data": {
      "text/plain": [
       "Customer_ID         0\n",
       "Transaction_Date    0\n",
       "Amount              0\n",
       "Category            0\n",
       "dtype: int64"
      ]
     },
     "execution_count": 73,
     "metadata": {},
     "output_type": "execute_result"
    }
   ],
   "source": [
    "df.isnull().sum()"
   ]
  },
  {
   "cell_type": "code",
   "execution_count": 74,
   "id": "599509c0-a623-42ad-9221-eb584bbb7be3",
   "metadata": {},
   "outputs": [
    {
     "data": {
      "text/plain": [
       "0"
      ]
     },
     "execution_count": 74,
     "metadata": {},
     "output_type": "execute_result"
    }
   ],
   "source": [
    "df.duplicated().sum()"
   ]
  },
  {
   "cell_type": "code",
   "execution_count": 75,
   "id": "3d6b69db-055b-4980-bfad-14a9efcaf17d",
   "metadata": {},
   "outputs": [
    {
     "data": {
      "text/html": [
       "<div>\n",
       "<style scoped>\n",
       "    .dataframe tbody tr th:only-of-type {\n",
       "        vertical-align: middle;\n",
       "    }\n",
       "\n",
       "    .dataframe tbody tr th {\n",
       "        vertical-align: top;\n",
       "    }\n",
       "\n",
       "    .dataframe thead th {\n",
       "        text-align: right;\n",
       "    }\n",
       "</style>\n",
       "<table border=\"1\" class=\"dataframe\">\n",
       "  <thead>\n",
       "    <tr style=\"text-align: right;\">\n",
       "      <th></th>\n",
       "      <th>Customer_ID</th>\n",
       "      <th>count</th>\n",
       "    </tr>\n",
       "  </thead>\n",
       "  <tbody>\n",
       "    <tr>\n",
       "      <th>0</th>\n",
       "      <td>CUST026</td>\n",
       "      <td>10</td>\n",
       "    </tr>\n",
       "    <tr>\n",
       "      <th>1</th>\n",
       "      <td>CUST012</td>\n",
       "      <td>10</td>\n",
       "    </tr>\n",
       "    <tr>\n",
       "      <th>2</th>\n",
       "      <td>CUST023</td>\n",
       "      <td>9</td>\n",
       "    </tr>\n",
       "    <tr>\n",
       "      <th>3</th>\n",
       "      <td>CUST032</td>\n",
       "      <td>9</td>\n",
       "    </tr>\n",
       "    <tr>\n",
       "      <th>4</th>\n",
       "      <td>CUST035</td>\n",
       "      <td>8</td>\n",
       "    </tr>\n",
       "  </tbody>\n",
       "</table>\n",
       "</div>"
      ],
      "text/plain": [
       "  Customer_ID  count\n",
       "0     CUST026     10\n",
       "1     CUST012     10\n",
       "2     CUST023      9\n",
       "3     CUST032      9\n",
       "4     CUST035      8"
      ]
     },
     "execution_count": 75,
     "metadata": {},
     "output_type": "execute_result"
    }
   ],
   "source": [
    "df[\"Customer_ID\"].value_counts().reset_index().head()"
   ]
  },
  {
   "cell_type": "markdown",
   "id": "fb818678-3fe5-44e3-8c58-93a876483e0b",
   "metadata": {},
   "source": [
    "Compute the total spend per customer using Pandas.\n",
    "-"
   ]
  },
  {
   "cell_type": "code",
   "execution_count": 77,
   "id": "e31fc8f4-1806-427b-b425-d9869854e72f",
   "metadata": {},
   "outputs": [
    {
     "data": {
      "text/html": [
       "<div>\n",
       "<style scoped>\n",
       "    .dataframe tbody tr th:only-of-type {\n",
       "        vertical-align: middle;\n",
       "    }\n",
       "\n",
       "    .dataframe tbody tr th {\n",
       "        vertical-align: top;\n",
       "    }\n",
       "\n",
       "    .dataframe thead th {\n",
       "        text-align: right;\n",
       "    }\n",
       "</style>\n",
       "<table border=\"1\" class=\"dataframe\">\n",
       "  <thead>\n",
       "    <tr style=\"text-align: right;\">\n",
       "      <th></th>\n",
       "      <th>Customer_ID</th>\n",
       "      <th>total_spent</th>\n",
       "    </tr>\n",
       "  </thead>\n",
       "  <tbody>\n",
       "    <tr>\n",
       "      <th>0</th>\n",
       "      <td>CUST016</td>\n",
       "      <td>1344.55</td>\n",
       "    </tr>\n",
       "    <tr>\n",
       "      <th>1</th>\n",
       "      <td>CUST032</td>\n",
       "      <td>1286.52</td>\n",
       "    </tr>\n",
       "    <tr>\n",
       "      <th>2</th>\n",
       "      <td>CUST005</td>\n",
       "      <td>1247.52</td>\n",
       "    </tr>\n",
       "    <tr>\n",
       "      <th>3</th>\n",
       "      <td>CUST026</td>\n",
       "      <td>1212.55</td>\n",
       "    </tr>\n",
       "    <tr>\n",
       "      <th>4</th>\n",
       "      <td>CUST028</td>\n",
       "      <td>835.00</td>\n",
       "    </tr>\n",
       "  </tbody>\n",
       "</table>\n",
       "</div>"
      ],
      "text/plain": [
       "  Customer_ID  total_spent\n",
       "0     CUST016      1344.55\n",
       "1     CUST032      1286.52\n",
       "2     CUST005      1247.52\n",
       "3     CUST026      1212.55\n",
       "4     CUST028       835.00"
      ]
     },
     "execution_count": 77,
     "metadata": {},
     "output_type": "execute_result"
    }
   ],
   "source": [
    "cst_total_spent=df.groupby(\"Customer_ID\")[\"Amount\"].agg(total_spent=\"sum\").reset_index()\n",
    "cst_total_spent.sort_values(by=\"total_spent\",ascending=False).reset_index(drop=True).head()"
   ]
  },
  {
   "cell_type": "markdown",
   "id": "25afb8e0-d587-477a-b4cc-9d02e6d7a850",
   "metadata": {},
   "source": [
    "Use NumPy to find the percentile (25th, 50th, 75th) of all transaction amounts.\n",
    "-"
   ]
  },
  {
   "cell_type": "code",
   "execution_count": 79,
   "id": "c36229fa-b175-46a6-a472-6673ab48983a",
   "metadata": {},
   "outputs": [
    {
     "data": {
      "text/html": [
       "<div>\n",
       "<style scoped>\n",
       "    .dataframe tbody tr th:only-of-type {\n",
       "        vertical-align: middle;\n",
       "    }\n",
       "\n",
       "    .dataframe tbody tr th {\n",
       "        vertical-align: top;\n",
       "    }\n",
       "\n",
       "    .dataframe thead th {\n",
       "        text-align: right;\n",
       "    }\n",
       "</style>\n",
       "<table border=\"1\" class=\"dataframe\">\n",
       "  <thead>\n",
       "    <tr style=\"text-align: right;\">\n",
       "      <th></th>\n",
       "      <th>total_spent</th>\n",
       "    </tr>\n",
       "  </thead>\n",
       "  <tbody>\n",
       "    <tr>\n",
       "      <th>count</th>\n",
       "      <td>49.000000</td>\n",
       "    </tr>\n",
       "    <tr>\n",
       "      <th>mean</th>\n",
       "      <td>545.844898</td>\n",
       "    </tr>\n",
       "    <tr>\n",
       "      <th>std</th>\n",
       "      <td>312.542801</td>\n",
       "    </tr>\n",
       "    <tr>\n",
       "      <th>min</th>\n",
       "      <td>52.210000</td>\n",
       "    </tr>\n",
       "    <tr>\n",
       "      <th>25%</th>\n",
       "      <td>315.060000</td>\n",
       "    </tr>\n",
       "    <tr>\n",
       "      <th>50%</th>\n",
       "      <td>555.940000</td>\n",
       "    </tr>\n",
       "    <tr>\n",
       "      <th>75%</th>\n",
       "      <td>705.500000</td>\n",
       "    </tr>\n",
       "    <tr>\n",
       "      <th>max</th>\n",
       "      <td>1344.550000</td>\n",
       "    </tr>\n",
       "  </tbody>\n",
       "</table>\n",
       "</div>"
      ],
      "text/plain": [
       "       total_spent\n",
       "count    49.000000\n",
       "mean    545.844898\n",
       "std     312.542801\n",
       "min      52.210000\n",
       "25%     315.060000\n",
       "50%     555.940000\n",
       "75%     705.500000\n",
       "max    1344.550000"
      ]
     },
     "execution_count": 79,
     "metadata": {},
     "output_type": "execute_result"
    }
   ],
   "source": [
    "cst_total_spent.describe()   #using pandas "
   ]
  },
  {
   "cell_type": "code",
   "execution_count": 80,
   "id": "668c6a53-6e3f-45d5-9edf-7ccd37fbfa09",
   "metadata": {},
   "outputs": [
    {
     "data": {
      "text/plain": [
       "array([ 404.17,  705.5 ,  226.78,  352.68, 1247.52,   52.21,  680.55,\n",
       "        315.06,  716.24,  355.15,   52.96,  699.86,  555.94,  276.38,\n",
       "        216.9 , 1344.55,  744.81,  116.53,  731.89,  432.48,  299.78,\n",
       "        698.72,  753.36,  668.81,  640.  , 1212.55,   82.13,  835.  ,\n",
       "        647.67,  482.72,  579.09, 1286.52,  610.68,  629.47,  820.04,\n",
       "        674.18,  782.62,  390.95,  347.91,   73.05,  453.85,  234.73,\n",
       "        271.56,  405.2 ,  507.48,  425.15,  252.11,  689.02,  763.89])"
      ]
     },
     "execution_count": 80,
     "metadata": {},
     "output_type": "execute_result"
    }
   ],
   "source": [
    "arr=np.array(cst_total_spent[\"total_spent\"])    # using NumPy\n",
    "arr"
   ]
  },
  {
   "cell_type": "code",
   "execution_count": 81,
   "id": "57877305-faac-4366-b51b-4e7d7a0c8531",
   "metadata": {},
   "outputs": [
    {
     "name": "stdout",
     "output_type": "stream",
     "text": [
      "25% transaction: 315.06\n",
      "50% transaction: 555.94\n",
      "75% transaction: 705.5\n"
     ]
    }
   ],
   "source": [
    "percentile_25=np.percentile(arr,25)\n",
    "print(\"25% transaction:\",percentile_25)\n",
    "percentile_50=np.percentile(arr,50)\n",
    "print(\"50% transaction:\",percentile_50)\n",
    "percentile_75=np.percentile(arr,75)\n",
    "print(\"75% transaction:\",percentile_75)"
   ]
  },
  {
   "cell_type": "markdown",
   "id": "61453a70-eac9-42b3-b683-03c2bc1b95cd",
   "metadata": {},
   "source": [
    "Use basic Python to count how many customers have more than 10 transactions.\n",
    "-"
   ]
  },
  {
   "cell_type": "code",
   "execution_count": 83,
   "id": "a2d9149c-a86c-4fd1-90e4-6c4036968a57",
   "metadata": {},
   "outputs": [
    {
     "data": {
      "text/html": [
       "<div>\n",
       "<style scoped>\n",
       "    .dataframe tbody tr th:only-of-type {\n",
       "        vertical-align: middle;\n",
       "    }\n",
       "\n",
       "    .dataframe tbody tr th {\n",
       "        vertical-align: top;\n",
       "    }\n",
       "\n",
       "    .dataframe thead th {\n",
       "        text-align: right;\n",
       "    }\n",
       "</style>\n",
       "<table border=\"1\" class=\"dataframe\">\n",
       "  <thead>\n",
       "    <tr style=\"text-align: right;\">\n",
       "      <th></th>\n",
       "      <th>Customer_ID</th>\n",
       "      <th>repeat_cst</th>\n",
       "    </tr>\n",
       "  </thead>\n",
       "  <tbody>\n",
       "  </tbody>\n",
       "</table>\n",
       "</div>"
      ],
      "text/plain": [
       "Empty DataFrame\n",
       "Columns: [Customer_ID, repeat_cst]\n",
       "Index: []"
      ]
     },
     "execution_count": 83,
     "metadata": {},
     "output_type": "execute_result"
    }
   ],
   "source": [
    "cst_total_spents=df.groupby(\"Customer_ID\")[\"Customer_ID\"].agg(repeat_cst=\"count\").reset_index()\n",
    "above_10t=cst_total_spents[cst_total_spents[\"repeat_cst\"]>10]\n",
    "above_10t"
   ]
  },
  {
   "cell_type": "markdown",
   "id": "4cea5595-2285-4828-8b12-3a4f9f2fe759",
   "metadata": {},
   "source": [
    "here there are no customers made above 10 transactions "
   ]
  },
  {
   "cell_type": "markdown",
   "id": "fde08550-b18d-4ed3-b6bc-6feb92f7c67d",
   "metadata": {},
   "source": [
    "Perform a statistical test to see if the average transaction amount differs between two categories.\n",
    "-"
   ]
  },
  {
   "cell_type": "code",
   "execution_count": 86,
   "id": "cdf1ff2a-6f8f-4afd-949c-6852d434e90b",
   "metadata": {},
   "outputs": [
    {
     "data": {
      "text/plain": [
       "array(['Dining', 'Groceries', 'Entertainment', 'Travel', 'Utilities'],\n",
       "      dtype=object)"
      ]
     },
     "execution_count": 86,
     "metadata": {},
     "output_type": "execute_result"
    }
   ],
   "source": [
    "df[\"Category\"].unique()"
   ]
  },
  {
   "cell_type": "code",
   "execution_count": 87,
   "id": "7282ab2f-989f-40f3-a293-8dce98db33b6",
   "metadata": {
    "scrolled": true
   },
   "outputs": [
    {
     "data": {
      "text/html": [
       "<div>\n",
       "<style scoped>\n",
       "    .dataframe tbody tr th:only-of-type {\n",
       "        vertical-align: middle;\n",
       "    }\n",
       "\n",
       "    .dataframe tbody tr th {\n",
       "        vertical-align: top;\n",
       "    }\n",
       "\n",
       "    .dataframe thead th {\n",
       "        text-align: right;\n",
       "    }\n",
       "</style>\n",
       "<table border=\"1\" class=\"dataframe\">\n",
       "  <thead>\n",
       "    <tr style=\"text-align: right;\">\n",
       "      <th></th>\n",
       "      <th>Category</th>\n",
       "      <th>avg_tran</th>\n",
       "    </tr>\n",
       "  </thead>\n",
       "  <tbody>\n",
       "    <tr>\n",
       "      <th>0</th>\n",
       "      <td>Dining</td>\n",
       "      <td>98.983409</td>\n",
       "    </tr>\n",
       "    <tr>\n",
       "      <th>1</th>\n",
       "      <td>Entertainment</td>\n",
       "      <td>107.936667</td>\n",
       "    </tr>\n",
       "    <tr>\n",
       "      <th>2</th>\n",
       "      <td>Groceries</td>\n",
       "      <td>109.894082</td>\n",
       "    </tr>\n",
       "    <tr>\n",
       "      <th>3</th>\n",
       "      <td>Travel</td>\n",
       "      <td>112.196935</td>\n",
       "    </tr>\n",
       "    <tr>\n",
       "      <th>4</th>\n",
       "      <td>Utilities</td>\n",
       "      <td>103.859200</td>\n",
       "    </tr>\n",
       "  </tbody>\n",
       "</table>\n",
       "</div>"
      ],
      "text/plain": [
       "        Category    avg_tran\n",
       "0         Dining   98.983409\n",
       "1  Entertainment  107.936667\n",
       "2      Groceries  109.894082\n",
       "3         Travel  112.196935\n",
       "4      Utilities  103.859200"
      ]
     },
     "execution_count": 87,
     "metadata": {},
     "output_type": "execute_result"
    }
   ],
   "source": [
    "monthly_expenses=df.groupby('Category')[\"Amount\"].agg(avg_tran=\"mean\").reset_index()\n",
    "monthly_expenses"
   ]
  },
  {
   "cell_type": "markdown",
   "id": "b65376a8-baef-4a69-be24-d903687853a6",
   "metadata": {},
   "source": [
    "so the monthly expenses is high on groceries and low on Dining"
   ]
  },
  {
   "cell_type": "markdown",
   "id": "3e3b0ad4-e2b9-446a-8fe8-ad7f85006068",
   "metadata": {},
   "source": [
    "\n",
    "***Q4)🔹 Healthcare Company Scenario***\n",
    "Company: CVS Health\n",
    "Topic: Patient Visit Logs\n",
    "Question:\n",
    "\n",
    "Analyze patient visit logs from a clinic. Data columns: Patient_ID, Visit_Date, Diagnosis, Cost, Follow_Up.\n",
    "Tasks:\n",
    "\n",
    "Calculate average and median cost per diagnosis.\n",
    "\n",
    "Use NumPy to determine if the distribution of costs is normal.\n",
    "\n",
    "Find the diagnosis with the highest variability in cost.\n",
    "\n",
    "Create a time series of monthly visits."
   ]
  },
  {
   "cell_type": "code",
   "execution_count": 90,
   "id": "111c9dc6-2d34-4551-a8d5-c587269992b8",
   "metadata": {},
   "outputs": [
    {
     "data": {
      "text/html": [
       "<div>\n",
       "<style scoped>\n",
       "    .dataframe tbody tr th:only-of-type {\n",
       "        vertical-align: middle;\n",
       "    }\n",
       "\n",
       "    .dataframe tbody tr th {\n",
       "        vertical-align: top;\n",
       "    }\n",
       "\n",
       "    .dataframe thead th {\n",
       "        text-align: right;\n",
       "    }\n",
       "</style>\n",
       "<table border=\"1\" class=\"dataframe\">\n",
       "  <thead>\n",
       "    <tr style=\"text-align: right;\">\n",
       "      <th></th>\n",
       "      <th>Patient_ID</th>\n",
       "      <th>Visit_Date</th>\n",
       "      <th>Diagnosis</th>\n",
       "      <th>Cost</th>\n",
       "      <th>Follow_Up</th>\n",
       "    </tr>\n",
       "  </thead>\n",
       "  <tbody>\n",
       "    <tr>\n",
       "      <th>0</th>\n",
       "      <td>PAT0002</td>\n",
       "      <td>30-01-2024</td>\n",
       "      <td>Flu</td>\n",
       "      <td>174.84</td>\n",
       "      <td>Yes</td>\n",
       "    </tr>\n",
       "    <tr>\n",
       "      <th>1</th>\n",
       "      <td>PAT0026</td>\n",
       "      <td>01-04-2024</td>\n",
       "      <td>Hypertension</td>\n",
       "      <td>143.09</td>\n",
       "      <td>Yes</td>\n",
       "    </tr>\n",
       "    <tr>\n",
       "      <th>2</th>\n",
       "      <td>PAT0017</td>\n",
       "      <td>17-06-2024</td>\n",
       "      <td>Flu</td>\n",
       "      <td>182.38</td>\n",
       "      <td>Yes</td>\n",
       "    </tr>\n",
       "    <tr>\n",
       "      <th>3</th>\n",
       "      <td>PAT0040</td>\n",
       "      <td>30-03-2024</td>\n",
       "      <td>Asthma</td>\n",
       "      <td>226.15</td>\n",
       "      <td>Yes</td>\n",
       "    </tr>\n",
       "    <tr>\n",
       "      <th>4</th>\n",
       "      <td>PAT0033</td>\n",
       "      <td>05-06-2024</td>\n",
       "      <td>Flu</td>\n",
       "      <td>138.29</td>\n",
       "      <td>No</td>\n",
       "    </tr>\n",
       "    <tr>\n",
       "      <th>...</th>\n",
       "      <td>...</td>\n",
       "      <td>...</td>\n",
       "      <td>...</td>\n",
       "      <td>...</td>\n",
       "      <td>...</td>\n",
       "    </tr>\n",
       "    <tr>\n",
       "      <th>195</th>\n",
       "      <td>PAT0032</td>\n",
       "      <td>26-05-2024</td>\n",
       "      <td>Hypertension</td>\n",
       "      <td>169.27</td>\n",
       "      <td>No</td>\n",
       "    </tr>\n",
       "    <tr>\n",
       "      <th>196</th>\n",
       "      <td>PAT0037</td>\n",
       "      <td>07-06-2024</td>\n",
       "      <td>Hypertension</td>\n",
       "      <td>105.81</td>\n",
       "      <td>Yes</td>\n",
       "    </tr>\n",
       "    <tr>\n",
       "      <th>197</th>\n",
       "      <td>PAT0012</td>\n",
       "      <td>26-05-2024</td>\n",
       "      <td>Flu</td>\n",
       "      <td>157.69</td>\n",
       "      <td>Yes</td>\n",
       "    </tr>\n",
       "    <tr>\n",
       "      <th>198</th>\n",
       "      <td>PAT0049</td>\n",
       "      <td>21-04-2024</td>\n",
       "      <td>Allergy</td>\n",
       "      <td>152.91</td>\n",
       "      <td>No</td>\n",
       "    </tr>\n",
       "    <tr>\n",
       "      <th>199</th>\n",
       "      <td>PAT0013</td>\n",
       "      <td>27-02-2024</td>\n",
       "      <td>Flu</td>\n",
       "      <td>92.85</td>\n",
       "      <td>Yes</td>\n",
       "    </tr>\n",
       "  </tbody>\n",
       "</table>\n",
       "<p>200 rows × 5 columns</p>\n",
       "</div>"
      ],
      "text/plain": [
       "    Patient_ID  Visit_Date     Diagnosis    Cost Follow_Up\n",
       "0      PAT0002  30-01-2024           Flu  174.84       Yes\n",
       "1      PAT0026  01-04-2024  Hypertension  143.09       Yes\n",
       "2      PAT0017  17-06-2024           Flu  182.38       Yes\n",
       "3      PAT0040  30-03-2024        Asthma  226.15       Yes\n",
       "4      PAT0033  05-06-2024           Flu  138.29        No\n",
       "..         ...         ...           ...     ...       ...\n",
       "195    PAT0032  26-05-2024  Hypertension  169.27        No\n",
       "196    PAT0037  07-06-2024  Hypertension  105.81       Yes\n",
       "197    PAT0012  26-05-2024           Flu  157.69       Yes\n",
       "198    PAT0049  21-04-2024       Allergy  152.91        No\n",
       "199    PAT0013  27-02-2024           Flu   92.85       Yes\n",
       "\n",
       "[200 rows x 5 columns]"
      ]
     },
     "execution_count": 90,
     "metadata": {},
     "output_type": "execute_result"
    }
   ],
   "source": [
    "df4=pd.read_csv(r\"C:\\Users\\91709\\OneDrive\\Pictures\\Desktop\\healthcare_visit_logs.csv\")\n",
    "df4"
   ]
  },
  {
   "cell_type": "code",
   "execution_count": 91,
   "id": "fe916283-a51b-4741-9874-425bcfd1d01d",
   "metadata": {},
   "outputs": [
    {
     "data": {
      "text/plain": [
       "Index(['Patient_ID', 'Visit_Date', 'Diagnosis', 'Cost', 'Follow_Up'], dtype='object')"
      ]
     },
     "execution_count": 91,
     "metadata": {},
     "output_type": "execute_result"
    }
   ],
   "source": [
    "df4.columns  # names of the columns"
   ]
  },
  {
   "cell_type": "code",
   "execution_count": 92,
   "id": "c25bdf5e-ad89-4bc7-9823-aa92c0f67fe6",
   "metadata": {},
   "outputs": [
    {
     "data": {
      "text/plain": [
       "Patient_ID     object\n",
       "Visit_Date     object\n",
       "Diagnosis      object\n",
       "Cost          float64\n",
       "Follow_Up      object\n",
       "dtype: object"
      ]
     },
     "execution_count": 92,
     "metadata": {},
     "output_type": "execute_result"
    }
   ],
   "source": [
    "df4.dtypes  # data types of each column"
   ]
  },
  {
   "cell_type": "code",
   "execution_count": 93,
   "id": "e7754863-090c-41f6-b3b6-ed6184da5f4c",
   "metadata": {},
   "outputs": [
    {
     "data": {
      "text/plain": [
       "0"
      ]
     },
     "execution_count": 93,
     "metadata": {},
     "output_type": "execute_result"
    }
   ],
   "source": [
    "df.duplicated().sum()    #no duplicate records   "
   ]
  },
  {
   "cell_type": "code",
   "execution_count": 94,
   "id": "248b0cb2-bc13-4ff2-9c13-77e16f54024a",
   "metadata": {},
   "outputs": [
    {
     "data": {
      "text/plain": [
       "Patient_ID    0\n",
       "Visit_Date    0\n",
       "Diagnosis     0\n",
       "Cost          0\n",
       "Follow_Up     0\n",
       "dtype: int64"
      ]
     },
     "execution_count": 94,
     "metadata": {},
     "output_type": "execute_result"
    }
   ],
   "source": [
    "df4.isnull().sum()   #no missing values   np.nan"
   ]
  },
  {
   "cell_type": "markdown",
   "id": "b1ce2a08-2247-4b9e-be1c-f1fb6564cb14",
   "metadata": {},
   "source": [
    "Calculate average and median cost per diagnosis.\n",
    "-"
   ]
  },
  {
   "cell_type": "code",
   "execution_count": 96,
   "id": "90f43595-a8bc-4c23-a328-58df351bfe96",
   "metadata": {},
   "outputs": [
    {
     "data": {
      "text/plain": [
       "Index(['Patient_ID', 'Visit_Date', 'Diagnosis', 'Cost', 'Follow_Up'], dtype='object')"
      ]
     },
     "execution_count": 96,
     "metadata": {},
     "output_type": "execute_result"
    }
   ],
   "source": [
    "df4.columns"
   ]
  },
  {
   "cell_type": "code",
   "execution_count": 97,
   "id": "cb54a51a-fe36-4357-a90d-4861bd499ffe",
   "metadata": {},
   "outputs": [
    {
     "data": {
      "text/html": [
       "<div>\n",
       "<style scoped>\n",
       "    .dataframe tbody tr th:only-of-type {\n",
       "        vertical-align: middle;\n",
       "    }\n",
       "\n",
       "    .dataframe tbody tr th {\n",
       "        vertical-align: top;\n",
       "    }\n",
       "\n",
       "    .dataframe thead th {\n",
       "        text-align: right;\n",
       "    }\n",
       "</style>\n",
       "<table border=\"1\" class=\"dataframe\">\n",
       "  <thead>\n",
       "    <tr style=\"text-align: right;\">\n",
       "      <th></th>\n",
       "      <th>Diagnosis</th>\n",
       "      <th>avg_cost</th>\n",
       "      <th>median_cost</th>\n",
       "    </tr>\n",
       "  </thead>\n",
       "  <tbody>\n",
       "    <tr>\n",
       "      <th>5</th>\n",
       "      <td>Hypertension</td>\n",
       "      <td>138.891379</td>\n",
       "      <td>126.970</td>\n",
       "    </tr>\n",
       "    <tr>\n",
       "      <th>4</th>\n",
       "      <td>Flu</td>\n",
       "      <td>143.325000</td>\n",
       "      <td>146.320</td>\n",
       "    </tr>\n",
       "    <tr>\n",
       "      <th>3</th>\n",
       "      <td>Diabetes</td>\n",
       "      <td>148.628214</td>\n",
       "      <td>157.695</td>\n",
       "    </tr>\n",
       "    <tr>\n",
       "      <th>0</th>\n",
       "      <td>Allergy</td>\n",
       "      <td>150.441190</td>\n",
       "      <td>149.455</td>\n",
       "    </tr>\n",
       "    <tr>\n",
       "      <th>2</th>\n",
       "      <td>Covid-19</td>\n",
       "      <td>152.125556</td>\n",
       "      <td>154.785</td>\n",
       "    </tr>\n",
       "    <tr>\n",
       "      <th>1</th>\n",
       "      <td>Asthma</td>\n",
       "      <td>154.163704</td>\n",
       "      <td>158.660</td>\n",
       "    </tr>\n",
       "  </tbody>\n",
       "</table>\n",
       "</div>"
      ],
      "text/plain": [
       "      Diagnosis    avg_cost  median_cost\n",
       "5  Hypertension  138.891379      126.970\n",
       "4           Flu  143.325000      146.320\n",
       "3      Diabetes  148.628214      157.695\n",
       "0       Allergy  150.441190      149.455\n",
       "2      Covid-19  152.125556      154.785\n",
       "1        Asthma  154.163704      158.660"
      ]
     },
     "execution_count": 97,
     "metadata": {},
     "output_type": "execute_result"
    }
   ],
   "source": [
    "cost_dia=df4.groupby(\"Diagnosis\")[\"Cost\"].agg(avg_cost=\"mean\",median_cost=\"median\").reset_index()\n",
    "cost_dia.sort_values(by=\"avg_cost\")"
   ]
  },
  {
   "cell_type": "markdown",
   "id": "0800f03e-a479-4a12-8636-99ddfecda57d",
   "metadata": {},
   "source": [
    "Use NumPy to determine if the distribution of costs is normal.\n",
    "-"
   ]
  },
  {
   "cell_type": "code",
   "execution_count": 99,
   "id": "3d9201aa-1b15-49aa-b675-eace83fc72d9",
   "metadata": {
    "scrolled": true
   },
   "outputs": [
    {
     "data": {
      "text/plain": [
       "0.13573045373005138"
      ]
     },
     "execution_count": 99,
     "metadata": {},
     "output_type": "execute_result"
    }
   ],
   "source": [
    "#using pandas \n",
    "df4[\"Cost\"].skew()   #distribution of costs is (normal range: -1<skewness<1)"
   ]
  },
  {
   "cell_type": "code",
   "execution_count": 100,
   "id": "a79d870e-297d-4b04-b9bd-27cefc0aa0b9",
   "metadata": {
    "scrolled": true
   },
   "outputs": [
    {
     "name": "stdout",
     "output_type": "stream",
     "text": [
      "D'Agostino and Pearson Test:\n",
      "Test Statistic: 0.6897596658288037\n",
      "p-value: 0.7083054633572388\n",
      "✅ Data appears to be normal.\n"
     ]
    }
   ],
   "source": [
    "Cost=np.array(df4[\"Cost\"])\n",
    "\n",
    "from scipy.stats import normaltest\n",
    "\n",
    "stat, p = normaltest(Cost)\n",
    "print(\"D'Agostino and Pearson Test:\")\n",
    "print(\"Test Statistic:\", stat)\n",
    "print(\"p-value:\", p)\n",
    "\n",
    "if p > 0.05:  # default(alpha=0.05)\n",
    "    print(\"✅ Data appears to be normal.\")\n",
    "else:\n",
    "    print(\"❌ Data is likely not normal.\")\n"
   ]
  },
  {
   "cell_type": "markdown",
   "id": "24b6e721-9d17-4415-8d4a-46d55c4abe0f",
   "metadata": {},
   "source": [
    "Find the diagnosis with the highest variability in cost.\n",
    "-"
   ]
  },
  {
   "cell_type": "code",
   "execution_count": 102,
   "id": "ac565da0-c70a-4616-b514-f8a4847c4d62",
   "metadata": {},
   "outputs": [
    {
     "data": {
      "text/html": [
       "<div>\n",
       "<style scoped>\n",
       "    .dataframe tbody tr th:only-of-type {\n",
       "        vertical-align: middle;\n",
       "    }\n",
       "\n",
       "    .dataframe tbody tr th {\n",
       "        vertical-align: top;\n",
       "    }\n",
       "\n",
       "    .dataframe thead th {\n",
       "        text-align: right;\n",
       "    }\n",
       "</style>\n",
       "<table border=\"1\" class=\"dataframe\">\n",
       "  <thead>\n",
       "    <tr style=\"text-align: right;\">\n",
       "      <th></th>\n",
       "      <th>Diagnosis</th>\n",
       "      <th>high_cost_var</th>\n",
       "    </tr>\n",
       "  </thead>\n",
       "  <tbody>\n",
       "    <tr>\n",
       "      <th>0</th>\n",
       "      <td>Allergy</td>\n",
       "      <td>2127.469616</td>\n",
       "    </tr>\n",
       "    <tr>\n",
       "      <th>1</th>\n",
       "      <td>Asthma</td>\n",
       "      <td>2233.783986</td>\n",
       "    </tr>\n",
       "    <tr>\n",
       "      <th>2</th>\n",
       "      <td>Covid-19</td>\n",
       "      <td>2468.948048</td>\n",
       "    </tr>\n",
       "    <tr>\n",
       "      <th>3</th>\n",
       "      <td>Diabetes</td>\n",
       "      <td>1998.204867</td>\n",
       "    </tr>\n",
       "    <tr>\n",
       "      <th>4</th>\n",
       "      <td>Flu</td>\n",
       "      <td>2819.833864</td>\n",
       "    </tr>\n",
       "    <tr>\n",
       "      <th>5</th>\n",
       "      <td>Hypertension</td>\n",
       "      <td>1279.320412</td>\n",
       "    </tr>\n",
       "  </tbody>\n",
       "</table>\n",
       "</div>"
      ],
      "text/plain": [
       "      Diagnosis  high_cost_var\n",
       "0       Allergy    2127.469616\n",
       "1        Asthma    2233.783986\n",
       "2      Covid-19    2468.948048\n",
       "3      Diabetes    1998.204867\n",
       "4           Flu    2819.833864\n",
       "5  Hypertension    1279.320412"
      ]
     },
     "execution_count": 102,
     "metadata": {},
     "output_type": "execute_result"
    }
   ],
   "source": [
    "highvar_dia=df4.groupby(\"Diagnosis\")[\"Cost\"].agg(high_cost_var=\"var\").reset_index()\n",
    "highvar_dia"
   ]
  },
  {
   "cell_type": "markdown",
   "id": "e1a2bfbb-f3e8-438a-9846-20bb3b35f7b2",
   "metadata": {},
   "source": [
    "Create a time series of monthly visits.\n",
    "-"
   ]
  },
  {
   "cell_type": "code",
   "execution_count": 104,
   "id": "3247372d-a03f-4a35-b121-18a5ab03f74e",
   "metadata": {},
   "outputs": [
    {
     "name": "stderr",
     "output_type": "stream",
     "text": [
      "C:\\Users\\91709\\AppData\\Local\\Temp\\ipykernel_13676\\1694610089.py:1: UserWarning: Parsing dates in %d-%m-%Y format when dayfirst=False (the default) was specified. Pass `dayfirst=True` or specify a format to silence this warning.\n",
      "  df4[\"Visit_Date\"]=pd.to_datetime(df4[\"Visit_Date\"],errors=\"coerce\")\n"
     ]
    }
   ],
   "source": [
    "df4[\"Visit_Date\"]=pd.to_datetime(df4[\"Visit_Date\"],errors=\"coerce\")\n",
    "df4[\"yearmonth\"]=df4[\"Visit_Date\"].dt.to_period('M')\n",
    "monthly_data=df4.groupby(\"yearmonth\").size().reset_index(name=\"visits\") #yearmonth col in period\n",
    "monthly_data[\"yearmonth\"]=monthly_data[\"yearmonth\"].dt.to_timestamp() # convert period to timestamp for ploting "
   ]
  },
  {
   "cell_type": "code",
   "execution_count": 105,
   "id": "3b647e50-2768-4703-bba2-3473286d5142",
   "metadata": {},
   "outputs": [
    {
     "data": {
      "text/html": [
       "<div>\n",
       "<style scoped>\n",
       "    .dataframe tbody tr th:only-of-type {\n",
       "        vertical-align: middle;\n",
       "    }\n",
       "\n",
       "    .dataframe tbody tr th {\n",
       "        vertical-align: top;\n",
       "    }\n",
       "\n",
       "    .dataframe thead th {\n",
       "        text-align: right;\n",
       "    }\n",
       "</style>\n",
       "<table border=\"1\" class=\"dataframe\">\n",
       "  <thead>\n",
       "    <tr style=\"text-align: right;\">\n",
       "      <th></th>\n",
       "      <th>yearmonth</th>\n",
       "      <th>visits</th>\n",
       "    </tr>\n",
       "  </thead>\n",
       "  <tbody>\n",
       "    <tr>\n",
       "      <th>0</th>\n",
       "      <td>2024-01-01</td>\n",
       "      <td>40</td>\n",
       "    </tr>\n",
       "    <tr>\n",
       "      <th>1</th>\n",
       "      <td>2024-02-01</td>\n",
       "      <td>21</td>\n",
       "    </tr>\n",
       "    <tr>\n",
       "      <th>2</th>\n",
       "      <td>2024-03-01</td>\n",
       "      <td>29</td>\n",
       "    </tr>\n",
       "    <tr>\n",
       "      <th>3</th>\n",
       "      <td>2024-04-01</td>\n",
       "      <td>40</td>\n",
       "    </tr>\n",
       "    <tr>\n",
       "      <th>4</th>\n",
       "      <td>2024-05-01</td>\n",
       "      <td>28</td>\n",
       "    </tr>\n",
       "    <tr>\n",
       "      <th>5</th>\n",
       "      <td>2024-06-01</td>\n",
       "      <td>42</td>\n",
       "    </tr>\n",
       "  </tbody>\n",
       "</table>\n",
       "</div>"
      ],
      "text/plain": [
       "   yearmonth  visits\n",
       "0 2024-01-01      40\n",
       "1 2024-02-01      21\n",
       "2 2024-03-01      29\n",
       "3 2024-04-01      40\n",
       "4 2024-05-01      28\n",
       "5 2024-06-01      42"
      ]
     },
     "execution_count": 105,
     "metadata": {},
     "output_type": "execute_result"
    }
   ],
   "source": [
    "monthly_data"
   ]
  },
  {
   "cell_type": "code",
   "execution_count": 106,
   "id": "21d9620b-7537-46b9-8f50-fbcb1bf7a121",
   "metadata": {},
   "outputs": [
    {
     "data": {
      "image/png": "[encoded data removed]",
      "text/plain": [
       "<Figure size 1000x500 with 1 Axes>"
      ]
     },
     "metadata": {},
     "output_type": "display_data"
    }
   ],
   "source": [
    "\n",
    "# Step 8: Plot the result\n",
    "plt.figure(figsize=(10, 5))\n",
    "plt.plot(monthly_data['yearmonth'],monthly_data['visits'], marker='o', linestyle='-')     \n",
    "plt.title('Monthly Records visits')\n",
    "plt.xlabel('Month')\n",
    "plt.ylabel('Number of Records')\n",
    "plt.grid(True)\n",
    "plt.xticks(rotation=45)\n",
    "plt.tight_layout()\n",
    "plt.show()"
   ]
  },
  {
   "cell_type": "markdown",
   "id": "34543c72-852c-420a-b7b1-716e3ca1a0c2",
   "metadata": {},
   "source": [
    "\n",
    "***Q5)🔹 Food Delivery Company Scenario***\n",
    "Company: Zomato\n",
    "Topic: Order and Rating Analysis\n",
    "Question:\n",
    "\n",
    "Zomato wants insights from their order data. Data includes Order_ID, Restaurant_ID, Delivery_Time, Order_Value, Rating.\n",
    "Tasks:\n",
    "\n",
    "Calculate the average delivery time per restaurant.\n",
    "\n",
    "Use Pandas to find the correlation between delivery time and rating.\n",
    "\n",
    "Use NumPy to calculate z-scores for delivery times and identify outliers.\n",
    "\n",
    "What statistical metric would help you judge customer satisfaction best?"
   ]
  },
  {
   "cell_type": "code",
   "execution_count": 108,
   "id": "aabd7f0e-67ae-4e25-b9ae-8e9a5cec0410",
   "metadata": {},
   "outputs": [
    {
     "data": {
      "text/html": [
       "<div>\n",
       "<style scoped>\n",
       "    .dataframe tbody tr th:only-of-type {\n",
       "        vertical-align: middle;\n",
       "    }\n",
       "\n",
       "    .dataframe tbody tr th {\n",
       "        vertical-align: top;\n",
       "    }\n",
       "\n",
       "    .dataframe thead th {\n",
       "        text-align: right;\n",
       "    }\n",
       "</style>\n",
       "<table border=\"1\" class=\"dataframe\">\n",
       "  <thead>\n",
       "    <tr style=\"text-align: right;\">\n",
       "      <th></th>\n",
       "      <th>Order_ID</th>\n",
       "      <th>Restaurant_ID</th>\n",
       "      <th>Delivery_Time</th>\n",
       "      <th>Order_Value</th>\n",
       "      <th>Rating</th>\n",
       "    </tr>\n",
       "  </thead>\n",
       "  <tbody>\n",
       "    <tr>\n",
       "      <th>0</th>\n",
       "      <td>O1000</td>\n",
       "      <td>R7</td>\n",
       "      <td>25.52</td>\n",
       "      <td>808</td>\n",
       "      <td>4</td>\n",
       "    </tr>\n",
       "    <tr>\n",
       "      <th>1</th>\n",
       "      <td>O1001</td>\n",
       "      <td>R4</td>\n",
       "      <td>29.44</td>\n",
       "      <td>965</td>\n",
       "      <td>5</td>\n",
       "    </tr>\n",
       "    <tr>\n",
       "      <th>2</th>\n",
       "      <td>O1002</td>\n",
       "      <td>R8</td>\n",
       "      <td>37.34</td>\n",
       "      <td>357</td>\n",
       "      <td>1</td>\n",
       "    </tr>\n",
       "    <tr>\n",
       "      <th>3</th>\n",
       "      <td>O1003</td>\n",
       "      <td>R5</td>\n",
       "      <td>24.38</td>\n",
       "      <td>280</td>\n",
       "      <td>2</td>\n",
       "    </tr>\n",
       "    <tr>\n",
       "      <th>4</th>\n",
       "      <td>O1004</td>\n",
       "      <td>R7</td>\n",
       "      <td>34.75</td>\n",
       "      <td>553</td>\n",
       "      <td>4</td>\n",
       "    </tr>\n",
       "    <tr>\n",
       "      <th>...</th>\n",
       "      <td>...</td>\n",
       "      <td>...</td>\n",
       "      <td>...</td>\n",
       "      <td>...</td>\n",
       "      <td>...</td>\n",
       "    </tr>\n",
       "    <tr>\n",
       "      <th>95</th>\n",
       "      <td>O1095</td>\n",
       "      <td>R10</td>\n",
       "      <td>30.59</td>\n",
       "      <td>472</td>\n",
       "      <td>3</td>\n",
       "    </tr>\n",
       "    <tr>\n",
       "      <th>96</th>\n",
       "      <td>O1096</td>\n",
       "      <td>R9</td>\n",
       "      <td>35.00</td>\n",
       "      <td>277</td>\n",
       "      <td>4</td>\n",
       "    </tr>\n",
       "    <tr>\n",
       "      <th>97</th>\n",
       "      <td>O1097</td>\n",
       "      <td>R7</td>\n",
       "      <td>30.76</td>\n",
       "      <td>167</td>\n",
       "      <td>4</td>\n",
       "    </tr>\n",
       "    <tr>\n",
       "      <th>98</th>\n",
       "      <td>O1098</td>\n",
       "      <td>R9</td>\n",
       "      <td>26.99</td>\n",
       "      <td>942</td>\n",
       "      <td>5</td>\n",
       "    </tr>\n",
       "    <tr>\n",
       "      <th>99</th>\n",
       "      <td>O1099</td>\n",
       "      <td>R8</td>\n",
       "      <td>25.77</td>\n",
       "      <td>884</td>\n",
       "      <td>5</td>\n",
       "    </tr>\n",
       "  </tbody>\n",
       "</table>\n",
       "<p>100 rows × 5 columns</p>\n",
       "</div>"
      ],
      "text/plain": [
       "   Order_ID Restaurant_ID  Delivery_Time  Order_Value  Rating\n",
       "0     O1000            R7          25.52          808       4\n",
       "1     O1001            R4          29.44          965       5\n",
       "2     O1002            R8          37.34          357       1\n",
       "3     O1003            R5          24.38          280       2\n",
       "4     O1004            R7          34.75          553       4\n",
       "..      ...           ...            ...          ...     ...\n",
       "95    O1095           R10          30.59          472       3\n",
       "96    O1096            R9          35.00          277       4\n",
       "97    O1097            R7          30.76          167       4\n",
       "98    O1098            R9          26.99          942       5\n",
       "99    O1099            R8          25.77          884       5\n",
       "\n",
       "[100 rows x 5 columns]"
      ]
     },
     "execution_count": 108,
     "metadata": {},
     "output_type": "execute_result"
    }
   ],
   "source": [
    "df5=pd.read_excel(r\"C:\\Users\\91709\\OneDrive\\Pictures\\Desktop\\zomato_order_data.xlsx\")\n",
    "df5"
   ]
  },
  {
   "cell_type": "code",
   "execution_count": 109,
   "id": "997d02ed-e09c-4109-b14f-ebab17b27198",
   "metadata": {},
   "outputs": [
    {
     "data": {
      "text/plain": [
       "Index(['Order_ID', 'Restaurant_ID', 'Delivery_Time', 'Order_Value', 'Rating'], dtype='object')"
      ]
     },
     "execution_count": 109,
     "metadata": {},
     "output_type": "execute_result"
    }
   ],
   "source": [
    "df5.columns=df5.columns.str.strip()\n",
    "df5.columns"
   ]
  },
  {
   "cell_type": "code",
   "execution_count": 110,
   "id": "9959a08e-4309-4f47-8db2-b58c90a5d1e6",
   "metadata": {},
   "outputs": [
    {
     "data": {
      "text/plain": [
       "Order_ID          object\n",
       "Restaurant_ID     object\n",
       "Delivery_Time    float64\n",
       "Order_Value        int64\n",
       "Rating             int64\n",
       "dtype: object"
      ]
     },
     "execution_count": 110,
     "metadata": {},
     "output_type": "execute_result"
    }
   ],
   "source": [
    "df5.dtypes"
   ]
  },
  {
   "cell_type": "code",
   "execution_count": 111,
   "id": "2824ae28-c3a7-4a7b-b85f-eae4187daddf",
   "metadata": {},
   "outputs": [
    {
     "data": {
      "text/plain": [
       "Order_ID         0\n",
       "Restaurant_ID    0\n",
       "Delivery_Time    0\n",
       "Order_Value      0\n",
       "Rating           0\n",
       "dtype: int64"
      ]
     },
     "execution_count": 111,
     "metadata": {},
     "output_type": "execute_result"
    }
   ],
   "source": [
    "df5.isnull().sum()"
   ]
  },
  {
   "cell_type": "code",
   "execution_count": 112,
   "id": "75ef8dd1-9080-4401-bc1d-c08525f62e69",
   "metadata": {},
   "outputs": [
    {
     "data": {
      "text/plain": [
       "0"
      ]
     },
     "execution_count": 112,
     "metadata": {},
     "output_type": "execute_result"
    }
   ],
   "source": [
    "df5.duplicated().sum()"
   ]
  },
  {
   "cell_type": "markdown",
   "id": "f21a1c63-6e33-4f74-80ef-e1a8af26cde4",
   "metadata": {},
   "source": [
    "Calculate the average delivery time per restaurant.\n",
    "-\n"
   ]
  },
  {
   "cell_type": "code",
   "execution_count": 114,
   "id": "a400007f-41bb-44a9-9410-5d833c647b2f",
   "metadata": {},
   "outputs": [
    {
     "data": {
      "text/html": [
       "<div>\n",
       "<style scoped>\n",
       "    .dataframe tbody tr th:only-of-type {\n",
       "        vertical-align: middle;\n",
       "    }\n",
       "\n",
       "    .dataframe tbody tr th {\n",
       "        vertical-align: top;\n",
       "    }\n",
       "\n",
       "    .dataframe thead th {\n",
       "        text-align: right;\n",
       "    }\n",
       "</style>\n",
       "<table border=\"1\" class=\"dataframe\">\n",
       "  <thead>\n",
       "    <tr style=\"text-align: right;\">\n",
       "      <th></th>\n",
       "      <th>Restaurant_ID</th>\n",
       "      <th>avg_dt</th>\n",
       "    </tr>\n",
       "  </thead>\n",
       "  <tbody>\n",
       "    <tr>\n",
       "      <th>0</th>\n",
       "      <td>R7</td>\n",
       "      <td>28.283636</td>\n",
       "    </tr>\n",
       "    <tr>\n",
       "      <th>1</th>\n",
       "      <td>R4</td>\n",
       "      <td>28.548889</td>\n",
       "    </tr>\n",
       "    <tr>\n",
       "      <th>2</th>\n",
       "      <td>R10</td>\n",
       "      <td>28.613636</td>\n",
       "    </tr>\n",
       "    <tr>\n",
       "      <th>3</th>\n",
       "      <td>R1</td>\n",
       "      <td>28.827143</td>\n",
       "    </tr>\n",
       "    <tr>\n",
       "      <th>4</th>\n",
       "      <td>R5</td>\n",
       "      <td>29.147000</td>\n",
       "    </tr>\n",
       "    <tr>\n",
       "      <th>5</th>\n",
       "      <td>R2</td>\n",
       "      <td>29.627000</td>\n",
       "    </tr>\n",
       "    <tr>\n",
       "      <th>6</th>\n",
       "      <td>R8</td>\n",
       "      <td>30.218667</td>\n",
       "    </tr>\n",
       "    <tr>\n",
       "      <th>7</th>\n",
       "      <td>R3</td>\n",
       "      <td>30.965556</td>\n",
       "    </tr>\n",
       "    <tr>\n",
       "      <th>8</th>\n",
       "      <td>R9</td>\n",
       "      <td>32.451667</td>\n",
       "    </tr>\n",
       "    <tr>\n",
       "      <th>9</th>\n",
       "      <td>R6</td>\n",
       "      <td>36.583333</td>\n",
       "    </tr>\n",
       "  </tbody>\n",
       "</table>\n",
       "</div>"
      ],
      "text/plain": [
       "  Restaurant_ID     avg_dt\n",
       "0            R7  28.283636\n",
       "1            R4  28.548889\n",
       "2           R10  28.613636\n",
       "3            R1  28.827143\n",
       "4            R5  29.147000\n",
       "5            R2  29.627000\n",
       "6            R8  30.218667\n",
       "7            R3  30.965556\n",
       "8            R9  32.451667\n",
       "9            R6  36.583333"
      ]
     },
     "execution_count": 114,
     "metadata": {},
     "output_type": "execute_result"
    }
   ],
   "source": [
    "dly_time=df5.groupby(\"Restaurant_ID\")[\"Delivery_Time\"].agg(avg_dt=\"mean\").reset_index()\n",
    "dly_time.sort_values(by=\"avg_dt\").reset_index(drop=True) #.reset_index(drop=True)>> drop=True: removes the old index and resets it to 0, 1, 2...\n"
   ]
  },
  {
   "cell_type": "code",
   "execution_count": 115,
   "id": "297a2468-6950-427c-b94a-6fe7ada60680",
   "metadata": {},
   "outputs": [
    {
     "data": {
      "text/html": [
       "<div>\n",
       "<style scoped>\n",
       "    .dataframe tbody tr th:only-of-type {\n",
       "        vertical-align: middle;\n",
       "    }\n",
       "\n",
       "    .dataframe tbody tr th {\n",
       "        vertical-align: top;\n",
       "    }\n",
       "\n",
       "    .dataframe thead th {\n",
       "        text-align: right;\n",
       "    }\n",
       "</style>\n",
       "<table border=\"1\" class=\"dataframe\">\n",
       "  <thead>\n",
       "    <tr style=\"text-align: right;\">\n",
       "      <th></th>\n",
       "      <th>avg_dt</th>\n",
       "    </tr>\n",
       "  </thead>\n",
       "  <tbody>\n",
       "    <tr>\n",
       "      <th>count</th>\n",
       "      <td>10.000000</td>\n",
       "    </tr>\n",
       "    <tr>\n",
       "      <th>mean</th>\n",
       "      <td>30.326653</td>\n",
       "    </tr>\n",
       "    <tr>\n",
       "      <th>std</th>\n",
       "      <td>2.549074</td>\n",
       "    </tr>\n",
       "    <tr>\n",
       "      <th>min</th>\n",
       "      <td>28.283636</td>\n",
       "    </tr>\n",
       "    <tr>\n",
       "      <th>25%</th>\n",
       "      <td>28.667013</td>\n",
       "    </tr>\n",
       "    <tr>\n",
       "      <th>50%</th>\n",
       "      <td>29.387000</td>\n",
       "    </tr>\n",
       "    <tr>\n",
       "      <th>75%</th>\n",
       "      <td>30.778833</td>\n",
       "    </tr>\n",
       "    <tr>\n",
       "      <th>max</th>\n",
       "      <td>36.583333</td>\n",
       "    </tr>\n",
       "  </tbody>\n",
       "</table>\n",
       "</div>"
      ],
      "text/plain": [
       "          avg_dt\n",
       "count  10.000000\n",
       "mean   30.326653\n",
       "std     2.549074\n",
       "min    28.283636\n",
       "25%    28.667013\n",
       "50%    29.387000\n",
       "75%    30.778833\n",
       "max    36.583333"
      ]
     },
     "execution_count": 115,
     "metadata": {},
     "output_type": "execute_result"
    }
   ],
   "source": [
    "dly_time.describe()"
   ]
  },
  {
   "cell_type": "markdown",
   "id": "a27e83b8-098d-459f-9355-443478797f01",
   "metadata": {},
   "source": [
    "Use Pandas to find the correlation between delivery time and rating.\n",
    "-"
   ]
  },
  {
   "cell_type": "code",
   "execution_count": 117,
   "id": "dec69cb0-d539-4394-bcc9-9d0e19797ffc",
   "metadata": {},
   "outputs": [
    {
     "data": {
      "text/plain": [
       "-0.005562658449317781"
      ]
     },
     "execution_count": 117,
     "metadata": {},
     "output_type": "execute_result"
    }
   ],
   "source": [
    "df5[\"Delivery_Time\"].corr(df5[\"Rating\"])"
   ]
  },
  {
   "cell_type": "markdown",
   "id": "4a6a1703-1d38-467e-88b1-95888a753b6d",
   "metadata": {},
   "source": [
    "Close to +1: Strong positive correlation (longer delivery → higher ratings).\n",
    "\n",
    "Close to -1: Strong negative correlation (longer delivery → lower ratings).\n",
    "\n",
    "Close to 0: Little or no linear relationship."
   ]
  },
  {
   "cell_type": "markdown",
   "id": "02b98c76-0626-4ea8-8ffb-9df01fdce86e",
   "metadata": {},
   "source": [
    "Use NumPy to calculate z-scores for delivery times and identify outliers.\n",
    "-"
   ]
  },
  {
   "cell_type": "code",
   "execution_count": 120,
   "id": "d6d4b941-11ec-48c8-95ac-f3a4d6d7d2bb",
   "metadata": {},
   "outputs": [
    {
     "name": "stdout",
     "output_type": "stream",
     "text": [
      "   Order_ID Restaurant_ID  Delivery_Time  Order_Value  Rating  z_score_dt\n",
      "18    O1018            R6          43.17          659       1    2.601888\n",
      "23    O1023            R6          41.44          855       1    2.256638\n",
      "43    O1043            R9          44.72          619       4    2.911216\n"
     ]
    }
   ],
   "source": [
    "mean=np.mean(df5[\"Delivery_Time\"])\n",
    "std=np.std(df5[\"Delivery_Time\"])\n",
    "x=df5[\"Delivery_Time\"] \n",
    "z_scores=(x-mean)/std\n",
    "\n",
    "df5[\"z_score_dt\"] = z_scores\n",
    "\n",
    "# Step 4: Identify outliers (commonly z < -3 or z > 3)\n",
    "outliers = df5[np.abs(df5[\"z_score_dt\"]) > 2]   \n",
    "#np.abs(...)  \n",
    "#np.abs() takes the absolute value of the z-scores.,\n",
    "#This is because outliers can be either too high (> +3) or too low (< -3), so we treat both sides the same.\n",
    "\n",
    "# View the outliers\n",
    "print(outliers)\n"
   ]
  },
  {
   "cell_type": "markdown",
   "id": "aaaba95b-c359-452a-9f6c-e85963fc63e8",
   "metadata": {},
   "source": [
    "A new DataFrame outliers containing only those rows where the delivery time is an outlier based on the z-score threshold of 2."
   ]
  },
  {
   "cell_type": "markdown",
   "id": "43c92153-1453-40d8-a884-a32e0dc6b703",
   "metadata": {},
   "source": [
    "What statistical metric would help you judge customer satisfaction best?\n",
    "-"
   ]
  },
  {
   "cell_type": "code",
   "execution_count": null,
   "id": "a7bd2bc9-903b-4793-bcc3-8584700e2dd4",
   "metadata": {},
   "outputs": [],
   "source": []
  },
  {
   "cell_type": "code",
   "execution_count": null,
   "id": "1bbd0baf-af37-4278-8553-5e5b64d32dac",
   "metadata": {},
   "outputs": [],
   "source": []
  },
  {
   "cell_type": "code",
   "execution_count": null,
   "id": "dbac655a-28ee-4c82-b508-f7c07232c8cf",
   "metadata": {},
   "outputs": [],
   "source": []
  },
  {
   "cell_type": "code",
   "execution_count": null,
   "id": "e423e360-1876-4efd-a416-b3730de31e70",
   "metadata": {},
   "outputs": [],
   "source": []
  },
  {
   "cell_type": "code",
   "execution_count": null,
   "id": "ec687b96-3559-43e6-992a-693fb47095c0",
   "metadata": {},
   "outputs": [],
   "source": []
  },
  {
   "cell_type": "code",
   "execution_count": null,
   "id": "53c0a782-1778-4268-8cdb-15783b73386d",
   "metadata": {},
   "outputs": [],
   "source": []
  },
  {
   "cell_type": "code",
   "execution_count": null,
   "id": "b3c9cb5a-f7db-4f9f-8745-2a674e4cf8c7",
   "metadata": {},
   "outputs": [],
   "source": []
  },
  {
   "cell_type": "code",
   "execution_count": null,
   "id": "7c0f3db3-0cfe-433a-89d7-357f0d3a6f0d",
   "metadata": {},
   "outputs": [],
   "source": []
  },
  {
   "cell_type": "code",
   "execution_count": null,
   "id": "bd3d50cd-dbee-453b-9f4f-ebca1a187e7f",
   "metadata": {},
   "outputs": [],
   "source": []
  },
  {
   "cell_type": "code",
   "execution_count": null,
   "id": "40aab1ed-0411-4b4d-aae5-5564df2410bf",
   "metadata": {},
   "outputs": [],
   "source": []
  },
  {
   "cell_type": "code",
   "execution_count": null,
   "id": "558c81ce-f36a-4e19-8509-da1c38819bdb",
   "metadata": {},
   "outputs": [],
   "source": []
  },
  {
   "cell_type": "code",
   "execution_count": null,
   "id": "637848e3-fe1e-4f09-b639-7f5e2b2597f5",
   "metadata": {},
   "outputs": [],
   "source": []
  },
  {
   "cell_type": "code",
   "execution_count": null,
   "id": "3dd1e9a7-db2b-4850-8c3c-b585cda1f0e3",
   "metadata": {},
   "outputs": [],
   "source": []
  },
  {
   "cell_type": "code",
   "execution_count": null,
   "id": "93fe0dbe-57c5-4e4a-84c8-5349efd41e4f",
   "metadata": {},
   "outputs": [],
   "source": []
  },
  {
   "cell_type": "code",
   "execution_count": null,
   "id": "674980a8-9390-43f5-948e-e109a38ebf46",
   "metadata": {},
   "outputs": [],
   "source": []
  },
  {
   "cell_type": "code",
   "execution_count": null,
   "id": "0c6ca657-73c6-4ee8-a30c-ad6406a55564",
   "metadata": {},
   "outputs": [],
   "source": []
  },
  {
   "cell_type": "code",
   "execution_count": null,
   "id": "febf532f-b2ce-43e4-a045-62930409f8dc",
   "metadata": {},
   "outputs": [],
   "source": []
  },
  {
   "cell_type": "code",
   "execution_count": null,
   "id": "4734d473-bdc7-4365-a104-af7bccc44ff0",
   "metadata": {},
   "outputs": [],
   "source": []
  },
  {
   "cell_type": "code",
   "execution_count": null,
   "id": "f7bfd1e9-4cca-421c-8fd5-c3a764904262",
   "metadata": {},
   "outputs": [],
   "source": []
  },
  {
   "cell_type": "code",
   "execution_count": null,
   "id": "5016cb66-6274-4b3c-9c1e-5f7ab77a4c38",
   "metadata": {},
   "outputs": [],
   "source": []
  },
  {
   "cell_type": "code",
   "execution_count": null,
   "id": "571ae6c1-4e94-45c3-b28a-24fe8ec5352e",
   "metadata": {},
   "outputs": [],
   "source": []
  },
  {
   "cell_type": "code",
   "execution_count": null,
   "id": "d71c3b56-f9d0-40f3-8be2-1ed470d6fae6",
   "metadata": {},
   "outputs": [],
   "source": []
  },
  {
   "cell_type": "code",
   "execution_count": null,
   "id": "b7c1144a-fc24-4b36-af3d-d54132c6ac23",
   "metadata": {},
   "outputs": [],
   "source": []
  },
  {
   "cell_type": "code",
   "execution_count": null,
   "id": "bc63387a-cacc-4b26-b767-f052f029fff3",
   "metadata": {},
   "outputs": [],
   "source": []
  },
  {
   "cell_type": "code",
   "execution_count": null,
   "id": "27628e87-6464-477f-99d5-38fe9f5053f6",
   "metadata": {},
   "outputs": [],
   "source": []
  },
  {
   "cell_type": "code",
   "execution_count": null,
   "id": "bc71dc81-535a-4bbe-ae95-20588b771fd2",
   "metadata": {},
   "outputs": [],
   "source": []
  },
  {
   "cell_type": "code",
   "execution_count": null,
   "id": "6fc48644-befe-444e-97e0-bef019fba0c5",
   "metadata": {},
   "outputs": [],
   "source": []
  },
  {
   "cell_type": "code",
   "execution_count": null,
   "id": "dc86bd5b-5d60-444e-ab72-f95854675853",
   "metadata": {},
   "outputs": [],
   "source": []
  },
  {
   "cell_type": "code",
   "execution_count": null,
   "id": "2d5112ba-99c4-48ed-9b1a-de02e3badced",
   "metadata": {},
   "outputs": [],
   "source": []
  },
  {
   "cell_type": "code",
   "execution_count": null,
   "id": "9083c27c-1af5-4510-925a-e3c3de0c35e6",
   "metadata": {},
   "outputs": [],
   "source": []
  },
  {
   "cell_type": "code",
   "execution_count": null,
   "id": "0c658af1-176f-43a3-aadc-615a51b8f70e",
   "metadata": {},
   "outputs": [],
   "source": []
  },
  {
   "cell_type": "code",
   "execution_count": null,
   "id": "5320cc1f-d160-4fd8-badb-7277b576d0aa",
   "metadata": {},
   "outputs": [],
   "source": []
  },
  {
   "cell_type": "code",
   "execution_count": null,
   "id": "c98b58d1-111a-45ad-9c11-1c3daa0ab267",
   "metadata": {},
   "outputs": [],
   "source": []
  },
  {
   "cell_type": "code",
   "execution_count": null,
   "id": "536059ec-cb33-442d-aa47-1c5ffa9f9b73",
   "metadata": {},
   "outputs": [],
   "source": []
  },
  {
   "cell_type": "code",
   "execution_count": null,
   "id": "78790943-8f8f-4bd3-a6e4-441b68a3321f",
   "metadata": {},
   "outputs": [],
   "source": []
  },
  {
   "cell_type": "code",
   "execution_count": null,
   "id": "56f4f4f8-7670-416b-b2dd-b6512962bc4b",
   "metadata": {},
   "outputs": [],
   "source": []
  },
  {
   "cell_type": "code",
   "execution_count": null,
   "id": "e058ad60-9932-46ff-bc06-dd88c5b02ce7",
   "metadata": {},
   "outputs": [],
   "source": []
  },
  {
   "cell_type": "code",
   "execution_count": null,
   "id": "469a0d6a-852e-44bb-ad2d-f302bbe85c44",
   "metadata": {},
   "outputs": [],
   "source": []
  },
  {
   "cell_type": "code",
   "execution_count": null,
   "id": "f7638d01-4545-4811-92a8-dffe30b4aac5",
   "metadata": {},
   "outputs": [],
   "source": []
  },
  {
   "cell_type": "code",
   "execution_count": null,
   "id": "ea2d68ef-2acf-44f3-920d-bfc40007abf9",
   "metadata": {},
   "outputs": [],
   "source": []
  },
  {
   "cell_type": "code",
   "execution_count": null,
   "id": "aef506f5-1084-45d9-b191-7d7d7f435a0e",
   "metadata": {},
   "outputs": [],
   "source": []
  },
  {
   "cell_type": "code",
   "execution_count": null,
   "id": "39f08740-5318-41f1-b87b-1f4a19249ad5",
   "metadata": {},
   "outputs": [],
   "source": []
  },
  {
   "cell_type": "code",
   "execution_count": null,
   "id": "06b3718d-0bef-43a1-9a56-2710a1c3f937",
   "metadata": {},
   "outputs": [],
   "source": []
  },
  {
   "cell_type": "code",
   "execution_count": null,
   "id": "697e349c-68a2-4f76-b9d2-93d895b4c611",
   "metadata": {},
   "outputs": [],
   "source": []
  },
  {
   "cell_type": "code",
   "execution_count": null,
   "id": "b7d026a8-27fe-49bb-8657-051fd6978211",
   "metadata": {},
   "outputs": [],
   "source": []
  },
  {
   "cell_type": "code",
   "execution_count": null,
   "id": "9b651ffb-3925-4a96-afd4-3fe218cb9065",
   "metadata": {},
   "outputs": [],
   "source": []
  },
  {
   "cell_type": "code",
   "execution_count": null,
   "id": "856b41f4-ce4b-447b-8b8d-1c2be041117e",
   "metadata": {},
   "outputs": [],
   "source": []
  },
  {
   "cell_type": "code",
   "execution_count": null,
   "id": "8b9a7193-47df-49fd-b9c4-56b0ebf53619",
   "metadata": {},
   "outputs": [],
   "source": []
  },
  {
   "cell_type": "code",
   "execution_count": null,
   "id": "ba8ecf3d-99ec-4d85-99ab-8cb87c7eaa74",
   "metadata": {},
   "outputs": [],
   "source": []
  },
  {
   "cell_type": "code",
   "execution_count": null,
   "id": "b402f90a-58e5-46cd-8106-ef3448cd47e7",
   "metadata": {},
   "outputs": [],
   "source": []
  },
  {
   "cell_type": "code",
   "execution_count": null,
   "id": "57fc5103-a856-44f2-a453-268eb604df1f",
   "metadata": {},
   "outputs": [],
   "source": []
  },
  {
   "cell_type": "code",
   "execution_count": null,
   "id": "ad455730-0528-4d45-8574-9378eeade34a",
   "metadata": {},
   "outputs": [],
   "source": []
  },
  {
   "cell_type": "code",
   "execution_count": null,
   "id": "e4c36633-b52a-4c0a-9066-101b155e6580",
   "metadata": {},
   "outputs": [],
   "source": []
  },
  {
   "cell_type": "code",
   "execution_count": null,
   "id": "bd1ce4c4-869b-4cb2-8458-737e7be341fb",
   "metadata": {},
   "outputs": [],
   "source": []
  },
  {
   "cell_type": "code",
   "execution_count": null,
   "id": "b12a8dfc-62fc-43a9-8122-6aa9ac359193",
   "metadata": {},
   "outputs": [],
   "source": []
  },
  {
   "cell_type": "code",
   "execution_count": null,
   "id": "e4205fa8-0eee-4627-8c02-193058cb22f4",
   "metadata": {},
   "outputs": [],
   "source": []
  },
  {
   "cell_type": "code",
   "execution_count": null,
   "id": "04986a19-680c-4d7f-997f-7462bc9418ec",
   "metadata": {},
   "outputs": [],
   "source": []
  },
  {
   "cell_type": "code",
   "execution_count": null,
   "id": "55b5e371-b07c-452f-8ade-5949f20c0814",
   "metadata": {},
   "outputs": [],
   "source": []
  },
  {
   "cell_type": "code",
   "execution_count": null,
   "id": "289b97b9-710e-4c79-96eb-7b6699844066",
   "metadata": {},
   "outputs": [],
   "source": []
  }
 ],
 "metadata": {
  "kernelspec": {
   "display_name": "Python [conda env:base] *",
   "language": "python",
   "name": "conda-base-py"
  },
  "language_info": {
   "codemirror_mode": {
    "name": "ipython",
    "version": 3
   },
   "file_extension": ".py",
   "mimetype": "text/x-python",
   "name": "python",
   "nbconvert_exporter": "python",
   "pygments_lexer": "ipython3",
   "version": "3.12.7"
  }
 },
 "nbformat": 4,
 "nbformat_minor": 5
}
